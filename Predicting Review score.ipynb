{
 "cells": [
  {
   "cell_type": "code",
   "execution_count": 1,
   "id": "675d38e9",
   "metadata": {},
   "outputs": [],
   "source": [
    "import pandas as pd\n",
    "import numpy as np\n",
    "import matplotlib.pyplot as plt"
   ]
  },
  {
   "cell_type": "code",
   "execution_count": null,
   "id": "022df8f3",
   "metadata": {},
   "outputs": [],
   "source": [
    "#importing various parts of the data below. print the columns as well."
   ]
  },
  {
   "cell_type": "code",
   "execution_count": 12,
   "id": "17835ba4",
   "metadata": {},
   "outputs": [
    {
     "data": {
      "text/plain": [
       "Index(['order_id', 'order_item_id', 'product_id', 'seller_id',\n",
       "       'shipping_limit_date', 'price', 'freight_value'],\n",
       "      dtype='object')"
      ]
     },
     "execution_count": 12,
     "metadata": {},
     "output_type": "execute_result"
    }
   ],
   "source": [
    "ordered_items = pd.read_csv(\"~/Desktop/archive (5)/olist_order_items_dataset.csv\")\n",
    "ordered_items.columns"
   ]
  },
  {
   "cell_type": "code",
   "execution_count": 13,
   "id": "9ff217bf",
   "metadata": {},
   "outputs": [
    {
     "data": {
      "text/plain": [
       "Index(['order_id', 'payment_sequential', 'payment_type',\n",
       "       'payment_installments', 'payment_value'],\n",
       "      dtype='object')"
      ]
     },
     "execution_count": 13,
     "metadata": {},
     "output_type": "execute_result"
    }
   ],
   "source": [
    "payments = pd.read_csv(\"~/Desktop/archive (5)/olist_order_payments_dataset.csv\")\n",
    "payments.columns"
   ]
  },
  {
   "cell_type": "code",
   "execution_count": 14,
   "id": "b0c48012",
   "metadata": {},
   "outputs": [
    {
     "data": {
      "text/plain": [
       "Index(['review_id', 'order_id', 'review_score', 'review_comment_title',\n",
       "       'review_comment_message', 'review_creation_date',\n",
       "       'review_answer_timestamp'],\n",
       "      dtype='object')"
      ]
     },
     "execution_count": 14,
     "metadata": {},
     "output_type": "execute_result"
    }
   ],
   "source": [
    "review_scores = pd.read_csv(\"~/Desktop/archive (5)/olist_order_reviews_dataset.csv\")\n",
    "review_scores.columns"
   ]
  },
  {
   "cell_type": "code",
   "execution_count": 15,
   "id": "5fac8ec3",
   "metadata": {},
   "outputs": [
    {
     "data": {
      "text/plain": [
       "Index(['order_id', 'customer_id', 'order_status', 'order_purchase_timestamp',\n",
       "       'order_approved_at', 'order_delivered_carrier_date',\n",
       "       'order_delivered_customer_date', 'order_estimated_delivery_date'],\n",
       "      dtype='object')"
      ]
     },
     "execution_count": 15,
     "metadata": {},
     "output_type": "execute_result"
    }
   ],
   "source": [
    "delivery_info = pd.read_csv(\"~/Desktop/archive (5)/olist_orders_dataset.csv\")\n",
    "delivery_info.columns"
   ]
  },
  {
   "cell_type": "code",
   "execution_count": 16,
   "id": "08cae2fd",
   "metadata": {},
   "outputs": [
    {
     "data": {
      "text/plain": [
       "Index(['product_id', 'product_category_name', 'product_name_lenght',\n",
       "       'product_description_lenght', 'product_photos_qty', 'product_weight_g',\n",
       "       'product_length_cm', 'product_height_cm', 'product_width_cm'],\n",
       "      dtype='object')"
      ]
     },
     "execution_count": 16,
     "metadata": {},
     "output_type": "execute_result"
    }
   ],
   "source": [
    "product_info = pd.read_csv(\"~/Desktop/archive (5)/olist_products_dataset.csv\")\n",
    "product_info.columns"
   ]
  },
  {
   "cell_type": "code",
   "execution_count": 17,
   "id": "8ccd045e",
   "metadata": {},
   "outputs": [
    {
     "data": {
      "text/plain": [
       "Index(['product_category_name', 'product_category_name_english'], dtype='object')"
      ]
     },
     "execution_count": 17,
     "metadata": {},
     "output_type": "execute_result"
    }
   ],
   "source": [
    "product_category_translation = pd.read_csv(\"~/Desktop/archive (5)/product_category_name_translation.csv\")\n",
    "product_category_translation.columns"
   ]
  },
  {
   "cell_type": "code",
   "execution_count": 82,
   "id": "2d559c2d",
   "metadata": {
    "scrolled": true
   },
   "outputs": [],
   "source": [
    "#importing the translating package so I can translate the portugese reviews\n",
    "import translators as ts\n"
   ]
  },
  {
   "cell_type": "code",
   "execution_count": 80,
   "id": "e92eb621",
   "metadata": {
    "scrolled": true
   },
   "outputs": [],
   "source": [
    "#take a sample of the reviews\n",
    "reviews =review_scores['review_comment_message'].dropna()[:10]"
   ]
  },
  {
   "cell_type": "code",
   "execution_count": 81,
   "id": "53fd6941",
   "metadata": {},
   "outputs": [
    {
     "name": "stdout",
     "output_type": "stream",
     "text": [
      "I received it well before the stipulated deadline.\n",
      "Congratulations lannister stores loved buying over the Internet safe and practical Happy birthday to all Happy Easter\n",
      "efficient appliance. On the website the brand of the device is printed as 3Disinfector and when it arrives it is under another name... update with the correct brand since it is the same handset\n",
      "But a little bit, crashing... for the value it's Good.\n",
      "Reliable seller, ok product and delivery before the deadline.\n",
      "I WOULD LIKE TO KNOW WHAT HAPPENED, I HAVE ALWAYS RECEIVED IT AND THIS PURCHASE HAS NOW DISAPPOINTED ME\n",
      "Lousy\n",
      "Shop Note 10\n",
      "Thank you for your attention,\n",
      "The purchase was made easily.\n",
      "The delivery was made well ahead of schedule.\n",
      "The product has already started to be used and to date,\n",
      "No problem.\n"
     ]
    }
   ],
   "source": [
    "#iterate through the 10 samples to see if the translation isn't through off by non utf 8 charachters.\n",
    "for review in reviews:\n",
    "    line = ts.translate_text(review)\n",
    "    print(line)"
   ]
  },
  {
   "cell_type": "code",
   "execution_count": null,
   "id": "55ede1b2",
   "metadata": {},
   "outputs": [],
   "source": []
  },
  {
   "cell_type": "code",
   "execution_count": null,
   "id": "e3b4c782",
   "metadata": {},
   "outputs": [],
   "source": []
  },
  {
   "cell_type": "code",
   "execution_count": 54,
   "id": "8dda63af",
   "metadata": {},
   "outputs": [],
   "source": []
  },
  {
   "cell_type": "code",
   "execution_count": null,
   "id": "7f1a2c3b",
   "metadata": {},
   "outputs": [],
   "source": []
  }
 ],
 "metadata": {
  "kernelspec": {
   "display_name": "Python 3 (ipykernel)",
   "language": "python",
   "name": "python3"
  },
  "language_info": {
   "codemirror_mode": {
    "name": "ipython",
    "version": 3
   },
   "file_extension": ".py",
   "mimetype": "text/x-python",
   "name": "python",
   "nbconvert_exporter": "python",
   "pygments_lexer": "ipython3",
   "version": "3.7.13"
  }
 },
 "nbformat": 4,
 "nbformat_minor": 5
}
