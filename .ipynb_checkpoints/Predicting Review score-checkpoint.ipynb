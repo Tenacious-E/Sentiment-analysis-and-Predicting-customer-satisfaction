{
 "cells": [
  {
   "cell_type": "code",
   "execution_count": 6,
   "id": "675d38e9",
   "metadata": {},
   "outputs": [],
   "source": [
    "import pandas as pd\n",
    "import numpy as np\n",
    "import matplotlib.pyplot as plt"
   ]
  },
  {
   "cell_type": "code",
   "execution_count": 7,
   "id": "022df8f3",
   "metadata": {},
   "outputs": [],
   "source": [
    "#importing various parts of the data below. print the columns as well."
   ]
  },
  {
   "cell_type": "code",
   "execution_count": 10,
   "id": "17835ba4",
   "metadata": {},
   "outputs": [
    {
     "data": {
      "text/plain": [
       "Index(['order_id', 'order_item_id', 'product_id', 'seller_id',\n",
       "       'shipping_limit_date', 'price', 'freight_value'],\n",
       "      dtype='object')"
      ]
     },
     "execution_count": 10,
     "metadata": {},
     "output_type": "execute_result"
    }
   ],
   "source": [
    "ordered_items = pd.read_csv(\"~/Desktop/Desktop - Eric’s MacBook Pro/Git/Sentiment-analysis-and-Predicting-customer-satisfaction/Data/olist_order_items_dataset.csv\")\n",
    "ordered_items.columns"
   ]
  },
  {
   "cell_type": "code",
   "execution_count": 12,
   "id": "9ff217bf",
   "metadata": {},
   "outputs": [
    {
     "data": {
      "text/plain": [
       "Index(['order_id', 'payment_sequential', 'payment_type',\n",
       "       'payment_installments', 'payment_value'],\n",
       "      dtype='object')"
      ]
     },
     "execution_count": 12,
     "metadata": {},
     "output_type": "execute_result"
    }
   ],
   "source": [
    "payments = pd.read_csv(\"~/Desktop/Desktop - Eric’s MacBook Pro/Git/Sentiment-analysis-and-Predicting-customer-satisfaction/Data/olist_order_payments_dataset.csv\")\n",
    "payments.columns"
   ]
  },
  {
   "cell_type": "code",
   "execution_count": 13,
   "id": "b0c48012",
   "metadata": {},
   "outputs": [
    {
     "data": {
      "text/plain": [
       "Index(['review_id', 'order_id', 'review_score', 'review_comment_title',\n",
       "       'review_comment_message', 'review_creation_date',\n",
       "       'review_answer_timestamp'],\n",
       "      dtype='object')"
      ]
     },
     "execution_count": 13,
     "metadata": {},
     "output_type": "execute_result"
    }
   ],
   "source": [
    "review_scores = pd.read_csv(\"~/Desktop/Desktop - Eric’s MacBook Pro/Git/Sentiment-analysis-and-Predicting-customer-satisfaction/Data/olist_order_reviews_dataset.csv\")\n",
    "review_scores.columns"
   ]
  },
  {
   "cell_type": "code",
   "execution_count": 161,
   "id": "5fac8ec3",
   "metadata": {},
   "outputs": [
    {
     "data": {
      "text/plain": [
       "Index(['order_id', 'customer_id', 'order_status', 'order_purchase_timestamp',\n",
       "       'order_approved_at', 'order_delivered_carrier_date',\n",
       "       'order_delivered_customer_date', 'order_estimated_delivery_date'],\n",
       "      dtype='object')"
      ]
     },
     "execution_count": 161,
     "metadata": {},
     "output_type": "execute_result"
    }
   ],
   "source": [
    "delivery_info = pd.read_csv(\"~/Desktop/Desktop - Eric’s MacBook Pro/Git/Sentiment-analysis-and-Predicting-customer-satisfaction/Data//olist_orders_dataset.csv\")\n",
    "delivery_info.columns"
   ]
  },
  {
   "cell_type": "code",
   "execution_count": 162,
   "id": "08cae2fd",
   "metadata": {},
   "outputs": [
    {
     "data": {
      "text/plain": [
       "Index(['product_id', 'product_category_name', 'product_name_lenght',\n",
       "       'product_description_lenght', 'product_photos_qty', 'product_weight_g',\n",
       "       'product_length_cm', 'product_height_cm', 'product_width_cm'],\n",
       "      dtype='object')"
      ]
     },
     "execution_count": 162,
     "metadata": {},
     "output_type": "execute_result"
    }
   ],
   "source": [
    "product_info = pd.read_csv(\"~/Desktop/Desktop - Eric’s MacBook Pro/Git/Sentiment-analysis-and-Predicting-customer-satisfaction/Data//olist_products_dataset.csv\")\n",
    "product_info.columns"
   ]
  },
  {
   "cell_type": "code",
   "execution_count": 163,
   "id": "8ccd045e",
   "metadata": {
    "scrolled": true
   },
   "outputs": [
    {
     "data": {
      "text/plain": [
       "Index(['product_category_name', 'product_category_name_english'], dtype='object')"
      ]
     },
     "execution_count": 163,
     "metadata": {},
     "output_type": "execute_result"
    }
   ],
   "source": [
    "product_category_translation = pd.read_csv(\"~/Desktop/Desktop - Eric’s MacBook Pro/Git/Sentiment-analysis-and-Predicting-customer-satisfaction/Data//product_category_name_translation.csv\")\n",
    "product_category_translation.columns"
   ]
  },
  {
   "cell_type": "code",
   "execution_count": 164,
   "id": "d34e8880",
   "metadata": {},
   "outputs": [],
   "source": [
    "#need to replace portugese names with english names. \n",
    "#the product_category_translation dataframe has the translations"
   ]
  },
  {
   "cell_type": "code",
   "execution_count": 165,
   "id": "7f45bee1",
   "metadata": {},
   "outputs": [],
   "source": [
    "df_product_dict = product_category_translation.to_dict()\n",
    "df_product_dict\n",
    "portugese_prod = df_product_dict['product_category_name']\n",
    "english_prod = df_product_dict['product_category_name_english']"
   ]
  },
  {
   "cell_type": "code",
   "execution_count": 166,
   "id": "1723fa21",
   "metadata": {},
   "outputs": [],
   "source": [
    "#using the dictionaries directly above we can get a dictonary with the english translation of the products\n",
    "\n",
    "translation_dict = dict()\n",
    "for i in range(len(portugese_prod)):\n",
    "        translation_dict[portugese_prod[i]] = english_prod[i]"
   ]
  },
  {
   "cell_type": "code",
   "execution_count": 167,
   "id": "0d5e73c8",
   "metadata": {},
   "outputs": [],
   "source": [
    "#now replace the portugese with english\n",
    "\n",
    "product_info['product_category_name'] = product_info['product_category_name'].replace(translation_dict)"
   ]
  },
  {
   "cell_type": "code",
   "execution_count": 168,
   "id": "8d06062e",
   "metadata": {},
   "outputs": [],
   "source": [
    "# in order to calculate the volume of the product and create new column need to check if there are any nans"
   ]
  },
  {
   "cell_type": "code",
   "execution_count": 169,
   "id": "3b19cd1a",
   "metadata": {},
   "outputs": [
    {
     "data": {
      "text/plain": [
       "8578    NaN\n",
       "18851   NaN\n",
       "Name: product_length_cm, dtype: float64"
      ]
     },
     "execution_count": 169,
     "metadata": {},
     "output_type": "execute_result"
    }
   ],
   "source": [
    "product_info[product_info['product_length_cm'].isna()]['product_length_cm']"
   ]
  },
  {
   "cell_type": "code",
   "execution_count": 170,
   "id": "58fb5a68",
   "metadata": {},
   "outputs": [
    {
     "data": {
      "text/plain": [
       "8578    NaN\n",
       "18851   NaN\n",
       "Name: product_height_cm, dtype: float64"
      ]
     },
     "execution_count": 170,
     "metadata": {},
     "output_type": "execute_result"
    }
   ],
   "source": [
    "product_info[product_info['product_height_cm'].isna()]['product_height_cm']"
   ]
  },
  {
   "cell_type": "code",
   "execution_count": 171,
   "id": "df2fa165",
   "metadata": {},
   "outputs": [
    {
     "data": {
      "text/plain": [
       "8578    NaN\n",
       "18851   NaN\n",
       "Name: product_width_cm, dtype: float64"
      ]
     },
     "execution_count": 171,
     "metadata": {},
     "output_type": "execute_result"
    }
   ],
   "source": [
    "product_info[product_info['product_width_cm'].isna()]['product_width_cm']"
   ]
  },
  {
   "cell_type": "code",
   "execution_count": 172,
   "id": "1f535899",
   "metadata": {},
   "outputs": [],
   "source": [
    "#it looks like rows 8578 and 18851 are missing information so just have to ignore those columns to calculate volume"
   ]
  },
  {
   "cell_type": "code",
   "execution_count": 173,
   "id": "2a0b3df9",
   "metadata": {},
   "outputs": [],
   "source": [
    "#I can ignore those rows with apply and a custom function"
   ]
  },
  {
   "cell_type": "code",
   "execution_count": 174,
   "id": "f8538351",
   "metadata": {},
   "outputs": [],
   "source": [
    "#writing function to calculate volume in cm cubed\n",
    "def calc_prod_vol(df):\n",
    "    #use try except block so that if I run into the product of nans I can replace the Nan with a 0 \n",
    "    try:\n",
    "        x = df['product_length_cm'] * df['product_height_cm'] * df['product_width_cm']\n",
    "    except:\n",
    "        x = 0\n",
    "    return x"
   ]
  },
  {
   "cell_type": "code",
   "execution_count": 175,
   "id": "f73badc0",
   "metadata": {},
   "outputs": [],
   "source": [
    "#use apply and function to create new column\n",
    "product_info['volume_cm_cubed'] = product_info.apply(calc_prod_vol,axis = 1)"
   ]
  },
  {
   "cell_type": "code",
   "execution_count": 176,
   "id": "adf3ce5d",
   "metadata": {},
   "outputs": [
    {
     "data": {
      "text/html": [
       "<div>\n",
       "<style scoped>\n",
       "    .dataframe tbody tr th:only-of-type {\n",
       "        vertical-align: middle;\n",
       "    }\n",
       "\n",
       "    .dataframe tbody tr th {\n",
       "        vertical-align: top;\n",
       "    }\n",
       "\n",
       "    .dataframe thead th {\n",
       "        text-align: right;\n",
       "    }\n",
       "</style>\n",
       "<table border=\"1\" class=\"dataframe\">\n",
       "  <thead>\n",
       "    <tr style=\"text-align: right;\">\n",
       "      <th></th>\n",
       "      <th>product_id</th>\n",
       "      <th>product_category_name</th>\n",
       "      <th>product_name_lenght</th>\n",
       "      <th>product_description_lenght</th>\n",
       "      <th>product_photos_qty</th>\n",
       "      <th>product_weight_g</th>\n",
       "      <th>product_length_cm</th>\n",
       "      <th>product_height_cm</th>\n",
       "      <th>product_width_cm</th>\n",
       "      <th>volume_cm_cubed</th>\n",
       "    </tr>\n",
       "  </thead>\n",
       "  <tbody>\n",
       "    <tr>\n",
       "      <th>0</th>\n",
       "      <td>1e9e8ef04dbcff4541ed26657ea517e5</td>\n",
       "      <td>perfumery</td>\n",
       "      <td>40.0</td>\n",
       "      <td>287.0</td>\n",
       "      <td>1.0</td>\n",
       "      <td>225.0</td>\n",
       "      <td>16.0</td>\n",
       "      <td>10.0</td>\n",
       "      <td>14.0</td>\n",
       "      <td>2240.0</td>\n",
       "    </tr>\n",
       "    <tr>\n",
       "      <th>1</th>\n",
       "      <td>3aa071139cb16b67ca9e5dea641aaa2f</td>\n",
       "      <td>art</td>\n",
       "      <td>44.0</td>\n",
       "      <td>276.0</td>\n",
       "      <td>1.0</td>\n",
       "      <td>1000.0</td>\n",
       "      <td>30.0</td>\n",
       "      <td>18.0</td>\n",
       "      <td>20.0</td>\n",
       "      <td>10800.0</td>\n",
       "    </tr>\n",
       "    <tr>\n",
       "      <th>2</th>\n",
       "      <td>96bd76ec8810374ed1b65e291975717f</td>\n",
       "      <td>sports_leisure</td>\n",
       "      <td>46.0</td>\n",
       "      <td>250.0</td>\n",
       "      <td>1.0</td>\n",
       "      <td>154.0</td>\n",
       "      <td>18.0</td>\n",
       "      <td>9.0</td>\n",
       "      <td>15.0</td>\n",
       "      <td>2430.0</td>\n",
       "    </tr>\n",
       "    <tr>\n",
       "      <th>3</th>\n",
       "      <td>cef67bcfe19066a932b7673e239eb23d</td>\n",
       "      <td>baby</td>\n",
       "      <td>27.0</td>\n",
       "      <td>261.0</td>\n",
       "      <td>1.0</td>\n",
       "      <td>371.0</td>\n",
       "      <td>26.0</td>\n",
       "      <td>4.0</td>\n",
       "      <td>26.0</td>\n",
       "      <td>2704.0</td>\n",
       "    </tr>\n",
       "    <tr>\n",
       "      <th>4</th>\n",
       "      <td>9dc1a7de274444849c219cff195d0b71</td>\n",
       "      <td>housewares</td>\n",
       "      <td>37.0</td>\n",
       "      <td>402.0</td>\n",
       "      <td>4.0</td>\n",
       "      <td>625.0</td>\n",
       "      <td>20.0</td>\n",
       "      <td>17.0</td>\n",
       "      <td>13.0</td>\n",
       "      <td>4420.0</td>\n",
       "    </tr>\n",
       "    <tr>\n",
       "      <th>...</th>\n",
       "      <td>...</td>\n",
       "      <td>...</td>\n",
       "      <td>...</td>\n",
       "      <td>...</td>\n",
       "      <td>...</td>\n",
       "      <td>...</td>\n",
       "      <td>...</td>\n",
       "      <td>...</td>\n",
       "      <td>...</td>\n",
       "      <td>...</td>\n",
       "    </tr>\n",
       "    <tr>\n",
       "      <th>32946</th>\n",
       "      <td>a0b7d5a992ccda646f2d34e418fff5a0</td>\n",
       "      <td>furniture_decor</td>\n",
       "      <td>45.0</td>\n",
       "      <td>67.0</td>\n",
       "      <td>2.0</td>\n",
       "      <td>12300.0</td>\n",
       "      <td>40.0</td>\n",
       "      <td>40.0</td>\n",
       "      <td>40.0</td>\n",
       "      <td>64000.0</td>\n",
       "    </tr>\n",
       "    <tr>\n",
       "      <th>32947</th>\n",
       "      <td>bf4538d88321d0fd4412a93c974510e6</td>\n",
       "      <td>construction_tools_lights</td>\n",
       "      <td>41.0</td>\n",
       "      <td>971.0</td>\n",
       "      <td>1.0</td>\n",
       "      <td>1700.0</td>\n",
       "      <td>16.0</td>\n",
       "      <td>19.0</td>\n",
       "      <td>16.0</td>\n",
       "      <td>4864.0</td>\n",
       "    </tr>\n",
       "    <tr>\n",
       "      <th>32948</th>\n",
       "      <td>9a7c6041fa9592d9d9ef6cfe62a71f8c</td>\n",
       "      <td>bed_bath_table</td>\n",
       "      <td>50.0</td>\n",
       "      <td>799.0</td>\n",
       "      <td>1.0</td>\n",
       "      <td>1400.0</td>\n",
       "      <td>27.0</td>\n",
       "      <td>7.0</td>\n",
       "      <td>27.0</td>\n",
       "      <td>5103.0</td>\n",
       "    </tr>\n",
       "    <tr>\n",
       "      <th>32949</th>\n",
       "      <td>83808703fc0706a22e264b9d75f04a2e</td>\n",
       "      <td>computers_accessories</td>\n",
       "      <td>60.0</td>\n",
       "      <td>156.0</td>\n",
       "      <td>2.0</td>\n",
       "      <td>700.0</td>\n",
       "      <td>31.0</td>\n",
       "      <td>13.0</td>\n",
       "      <td>20.0</td>\n",
       "      <td>8060.0</td>\n",
       "    </tr>\n",
       "    <tr>\n",
       "      <th>32950</th>\n",
       "      <td>106392145fca363410d287a815be6de4</td>\n",
       "      <td>bed_bath_table</td>\n",
       "      <td>58.0</td>\n",
       "      <td>309.0</td>\n",
       "      <td>1.0</td>\n",
       "      <td>2083.0</td>\n",
       "      <td>12.0</td>\n",
       "      <td>2.0</td>\n",
       "      <td>7.0</td>\n",
       "      <td>168.0</td>\n",
       "    </tr>\n",
       "  </tbody>\n",
       "</table>\n",
       "<p>32951 rows × 10 columns</p>\n",
       "</div>"
      ],
      "text/plain": [
       "                             product_id      product_category_name  \\\n",
       "0      1e9e8ef04dbcff4541ed26657ea517e5                  perfumery   \n",
       "1      3aa071139cb16b67ca9e5dea641aaa2f                        art   \n",
       "2      96bd76ec8810374ed1b65e291975717f             sports_leisure   \n",
       "3      cef67bcfe19066a932b7673e239eb23d                       baby   \n",
       "4      9dc1a7de274444849c219cff195d0b71                 housewares   \n",
       "...                                 ...                        ...   \n",
       "32946  a0b7d5a992ccda646f2d34e418fff5a0            furniture_decor   \n",
       "32947  bf4538d88321d0fd4412a93c974510e6  construction_tools_lights   \n",
       "32948  9a7c6041fa9592d9d9ef6cfe62a71f8c             bed_bath_table   \n",
       "32949  83808703fc0706a22e264b9d75f04a2e      computers_accessories   \n",
       "32950  106392145fca363410d287a815be6de4             bed_bath_table   \n",
       "\n",
       "       product_name_lenght  product_description_lenght  product_photos_qty  \\\n",
       "0                     40.0                       287.0                 1.0   \n",
       "1                     44.0                       276.0                 1.0   \n",
       "2                     46.0                       250.0                 1.0   \n",
       "3                     27.0                       261.0                 1.0   \n",
       "4                     37.0                       402.0                 4.0   \n",
       "...                    ...                         ...                 ...   \n",
       "32946                 45.0                        67.0                 2.0   \n",
       "32947                 41.0                       971.0                 1.0   \n",
       "32948                 50.0                       799.0                 1.0   \n",
       "32949                 60.0                       156.0                 2.0   \n",
       "32950                 58.0                       309.0                 1.0   \n",
       "\n",
       "       product_weight_g  product_length_cm  product_height_cm  \\\n",
       "0                 225.0               16.0               10.0   \n",
       "1                1000.0               30.0               18.0   \n",
       "2                 154.0               18.0                9.0   \n",
       "3                 371.0               26.0                4.0   \n",
       "4                 625.0               20.0               17.0   \n",
       "...                 ...                ...                ...   \n",
       "32946           12300.0               40.0               40.0   \n",
       "32947            1700.0               16.0               19.0   \n",
       "32948            1400.0               27.0                7.0   \n",
       "32949             700.0               31.0               13.0   \n",
       "32950            2083.0               12.0                2.0   \n",
       "\n",
       "       product_width_cm  volume_cm_cubed  \n",
       "0                  14.0           2240.0  \n",
       "1                  20.0          10800.0  \n",
       "2                  15.0           2430.0  \n",
       "3                  26.0           2704.0  \n",
       "4                  13.0           4420.0  \n",
       "...                 ...              ...  \n",
       "32946              40.0          64000.0  \n",
       "32947              16.0           4864.0  \n",
       "32948              27.0           5103.0  \n",
       "32949              20.0           8060.0  \n",
       "32950               7.0            168.0  \n",
       "\n",
       "[32951 rows x 10 columns]"
      ]
     },
     "execution_count": 176,
     "metadata": {},
     "output_type": "execute_result"
    }
   ],
   "source": [
    "product_info"
   ]
  },
  {
   "cell_type": "code",
   "execution_count": null,
   "id": "ff8f0b17",
   "metadata": {},
   "outputs": [],
   "source": []
  },
  {
   "cell_type": "code",
   "execution_count": null,
   "id": "ae9b8adb",
   "metadata": {},
   "outputs": [],
   "source": []
  },
  {
   "cell_type": "code",
   "execution_count": null,
   "id": "f3bd74d2",
   "metadata": {},
   "outputs": [],
   "source": []
  },
  {
   "cell_type": "code",
   "execution_count": null,
   "id": "9bcc0d34",
   "metadata": {},
   "outputs": [],
   "source": []
  },
  {
   "cell_type": "code",
   "execution_count": null,
   "id": "a9d24aff",
   "metadata": {},
   "outputs": [],
   "source": []
  },
  {
   "cell_type": "code",
   "execution_count": 82,
   "id": "2d559c2d",
   "metadata": {
    "scrolled": true
   },
   "outputs": [],
   "source": [
    "#importing the translating package so I can translate the portugese reviews\n",
    "import translators as ts\n"
   ]
  },
  {
   "cell_type": "code",
   "execution_count": 80,
   "id": "e92eb621",
   "metadata": {
    "scrolled": true
   },
   "outputs": [],
   "source": [
    "#take a sample of the reviews\n",
    "reviews =review_scores['review_comment_message'].dropna()[:10]"
   ]
  },
  {
   "cell_type": "code",
   "execution_count": 81,
   "id": "53fd6941",
   "metadata": {},
   "outputs": [
    {
     "name": "stdout",
     "output_type": "stream",
     "text": [
      "I received it well before the stipulated deadline.\n",
      "Congratulations lannister stores loved buying over the Internet safe and practical Happy birthday to all Happy Easter\n",
      "efficient appliance. On the website the brand of the device is printed as 3Disinfector and when it arrives it is under another name... update with the correct brand since it is the same handset\n",
      "But a little bit, crashing... for the value it's Good.\n",
      "Reliable seller, ok product and delivery before the deadline.\n",
      "I WOULD LIKE TO KNOW WHAT HAPPENED, I HAVE ALWAYS RECEIVED IT AND THIS PURCHASE HAS NOW DISAPPOINTED ME\n",
      "Lousy\n",
      "Shop Note 10\n",
      "Thank you for your attention,\n",
      "The purchase was made easily.\n",
      "The delivery was made well ahead of schedule.\n",
      "The product has already started to be used and to date,\n",
      "No problem.\n"
     ]
    }
   ],
   "source": [
    "#iterate through the 10 samples to see if the translation isn't through off by non utf 8 charachters.\n",
    "for review in reviews:\n",
    "    line = ts.translate_text(review)\n",
    "    print(line)"
   ]
  },
  {
   "cell_type": "code",
   "execution_count": null,
   "id": "55ede1b2",
   "metadata": {},
   "outputs": [],
   "source": []
  },
  {
   "cell_type": "code",
   "execution_count": null,
   "id": "e3b4c782",
   "metadata": {},
   "outputs": [],
   "source": []
  },
  {
   "cell_type": "code",
   "execution_count": 54,
   "id": "8dda63af",
   "metadata": {},
   "outputs": [],
   "source": []
  },
  {
   "cell_type": "code",
   "execution_count": null,
   "id": "7f1a2c3b",
   "metadata": {},
   "outputs": [],
   "source": []
  }
 ],
 "metadata": {
  "kernelspec": {
   "display_name": "Python 3 (ipykernel)",
   "language": "python",
   "name": "python3"
  },
  "language_info": {
   "codemirror_mode": {
    "name": "ipython",
    "version": 3
   },
   "file_extension": ".py",
   "mimetype": "text/x-python",
   "name": "python",
   "nbconvert_exporter": "python",
   "pygments_lexer": "ipython3",
   "version": "3.7.13"
  }
 },
 "nbformat": 4,
 "nbformat_minor": 5
}
