{
 "cells": [
  {
   "cell_type": "code",
   "execution_count": 1,
   "id": "675d38e9",
   "metadata": {},
   "outputs": [],
   "source": [
    "import pandas as pd\n",
    "import numpy as np\n",
    "import matplotlib.pyplot as plt\n",
    "import time\n",
    "import random\n",
    "import pickle"
   ]
  },
  {
   "cell_type": "code",
   "execution_count": 2,
   "id": "022df8f3",
   "metadata": {},
   "outputs": [],
   "source": [
    "#importing various parts of the data below. print the columns as well."
   ]
  },
  {
   "cell_type": "code",
   "execution_count": 3,
   "id": "17835ba4",
   "metadata": {},
   "outputs": [
    {
     "data": {
      "text/plain": [
       "Index(['order_id', 'order_item_id', 'product_id', 'seller_id',\n",
       "       'shipping_limit_date', 'price', 'freight_value'],\n",
       "      dtype='object')"
      ]
     },
     "execution_count": 3,
     "metadata": {},
     "output_type": "execute_result"
    }
   ],
   "source": [
    "ordered_items = pd.read_csv(\"~/Desktop/Desktop - Eric’s MacBook Pro/Git/Sentiment-analysis-and-Predicting-customer-satisfaction/Data/olist_order_items_dataset.csv\")\n",
    "ordered_items.columns"
   ]
  },
  {
   "cell_type": "code",
   "execution_count": 4,
   "id": "9ff217bf",
   "metadata": {},
   "outputs": [
    {
     "data": {
      "text/plain": [
       "Index(['order_id', 'payment_sequential', 'payment_type',\n",
       "       'payment_installments', 'payment_value'],\n",
       "      dtype='object')"
      ]
     },
     "execution_count": 4,
     "metadata": {},
     "output_type": "execute_result"
    }
   ],
   "source": [
    "payments = pd.read_csv(\"~/Desktop/Desktop - Eric’s MacBook Pro/Git/Sentiment-analysis-and-Predicting-customer-satisfaction/Data/olist_order_payments_dataset.csv\")\n",
    "payments.columns"
   ]
  },
  {
   "cell_type": "code",
   "execution_count": 5,
   "id": "b0c48012",
   "metadata": {},
   "outputs": [
    {
     "data": {
      "text/plain": [
       "Index(['review_id', 'order_id', 'review_score', 'review_comment_title',\n",
       "       'review_comment_message', 'review_creation_date',\n",
       "       'review_answer_timestamp'],\n",
       "      dtype='object')"
      ]
     },
     "execution_count": 5,
     "metadata": {},
     "output_type": "execute_result"
    }
   ],
   "source": [
    "review_scores = pd.read_csv(\"~/Desktop/Desktop - Eric’s MacBook Pro/Git/Sentiment-analysis-and-Predicting-customer-satisfaction/Data/olist_order_reviews_dataset.csv\")\n",
    "review_scores.columns"
   ]
  },
  {
   "cell_type": "code",
   "execution_count": 6,
   "id": "5fac8ec3",
   "metadata": {},
   "outputs": [
    {
     "data": {
      "text/plain": [
       "Index(['order_id', 'customer_id', 'order_status', 'order_purchase_timestamp',\n",
       "       'order_approved_at', 'order_delivered_carrier_date',\n",
       "       'order_delivered_customer_date', 'order_estimated_delivery_date'],\n",
       "      dtype='object')"
      ]
     },
     "execution_count": 6,
     "metadata": {},
     "output_type": "execute_result"
    }
   ],
   "source": [
    "delivery_info = pd.read_csv(\"~/Desktop/Desktop - Eric’s MacBook Pro/Git/Sentiment-analysis-and-Predicting-customer-satisfaction/Data//olist_orders_dataset.csv\",\n",
    "                           parse_dates =['order_purchase_timestamp','order_approved_at','order_delivered_carrier_date',\n",
    "                                        'order_delivered_customer_date','order_estimated_delivery_date'])\n",
    "delivery_info.columns"
   ]
  },
  {
   "cell_type": "code",
   "execution_count": 7,
   "id": "08cae2fd",
   "metadata": {},
   "outputs": [
    {
     "data": {
      "text/plain": [
       "Index(['product_id', 'product_category_name', 'product_name_lenght',\n",
       "       'product_description_lenght', 'product_photos_qty', 'product_weight_g',\n",
       "       'product_length_cm', 'product_height_cm', 'product_width_cm'],\n",
       "      dtype='object')"
      ]
     },
     "execution_count": 7,
     "metadata": {},
     "output_type": "execute_result"
    }
   ],
   "source": [
    "product_info = pd.read_csv(\"~/Desktop/Desktop - Eric’s MacBook Pro/Git/Sentiment-analysis-and-Predicting-customer-satisfaction/Data//olist_products_dataset.csv\")\n",
    "product_info.columns"
   ]
  },
  {
   "cell_type": "code",
   "execution_count": 8,
   "id": "8ccd045e",
   "metadata": {
    "scrolled": true
   },
   "outputs": [
    {
     "data": {
      "text/plain": [
       "Index(['product_category_name', 'product_category_name_english'], dtype='object')"
      ]
     },
     "execution_count": 8,
     "metadata": {},
     "output_type": "execute_result"
    }
   ],
   "source": [
    "product_category_translation = pd.read_csv(\"~/Desktop/Desktop - Eric’s MacBook Pro/Git/Sentiment-analysis-and-Predicting-customer-satisfaction/Data//product_category_name_translation.csv\")\n",
    "product_category_translation.columns"
   ]
  },
  {
   "cell_type": "code",
   "execution_count": 9,
   "id": "0de1dc37",
   "metadata": {},
   "outputs": [],
   "source": [
    "#need to replace portugese product names with english. \n",
    "#the product_category_translation dataframe has the translations"
   ]
  },
  {
   "cell_type": "code",
   "execution_count": 10,
   "id": "dccaee1a",
   "metadata": {},
   "outputs": [],
   "source": [
    "df_product_dict = product_category_translation.to_dict()\n",
    "df_product_dict\n",
    "portugese_prod = df_product_dict['product_category_name']\n",
    "english_prod = df_product_dict['product_category_name_english']"
   ]
  },
  {
   "cell_type": "code",
   "execution_count": 11,
   "id": "1deba8f1",
   "metadata": {},
   "outputs": [],
   "source": [
    "#using the dictionaries directly above we can get a dictonary with the english translation of the products\n",
    "\n",
    "translation_dict = dict()\n",
    "for i in range(len(portugese_prod)):\n",
    "        translation_dict[portugese_prod[i]] = english_prod[i]"
   ]
  },
  {
   "cell_type": "code",
   "execution_count": 12,
   "id": "f18fd14a",
   "metadata": {},
   "outputs": [],
   "source": [
    "#now replace the portugese with english\n",
    "\n",
    "product_info['product_category_name'] = product_info['product_category_name'].replace(translation_dict)"
   ]
  },
  {
   "cell_type": "code",
   "execution_count": 13,
   "id": "4fdd0aa8",
   "metadata": {},
   "outputs": [],
   "source": [
    "# in order to calculate the volume of the product and create new column need to check if there are any nans"
   ]
  },
  {
   "cell_type": "code",
   "execution_count": 14,
   "id": "b73901ea",
   "metadata": {},
   "outputs": [
    {
     "data": {
      "text/plain": [
       "8578    NaN\n",
       "18851   NaN\n",
       "Name: product_length_cm, dtype: float64"
      ]
     },
     "execution_count": 14,
     "metadata": {},
     "output_type": "execute_result"
    }
   ],
   "source": [
    "product_info[product_info['product_length_cm'].isna()]['product_length_cm']"
   ]
  },
  {
   "cell_type": "code",
   "execution_count": 15,
   "id": "1c1a4a50",
   "metadata": {},
   "outputs": [
    {
     "data": {
      "text/plain": [
       "8578    NaN\n",
       "18851   NaN\n",
       "Name: product_height_cm, dtype: float64"
      ]
     },
     "execution_count": 15,
     "metadata": {},
     "output_type": "execute_result"
    }
   ],
   "source": [
    "product_info[product_info['product_height_cm'].isna()]['product_height_cm']"
   ]
  },
  {
   "cell_type": "code",
   "execution_count": 16,
   "id": "5dbcdb21",
   "metadata": {},
   "outputs": [
    {
     "data": {
      "text/plain": [
       "8578    NaN\n",
       "18851   NaN\n",
       "Name: product_width_cm, dtype: float64"
      ]
     },
     "execution_count": 16,
     "metadata": {},
     "output_type": "execute_result"
    }
   ],
   "source": [
    "product_info[product_info['product_width_cm'].isna()]['product_width_cm']"
   ]
  },
  {
   "cell_type": "code",
   "execution_count": 17,
   "id": "7aabf0de",
   "metadata": {},
   "outputs": [],
   "source": [
    "#it looks like rows 8578 and 18851 are missing information so just have to ignore those columns to calculate volume"
   ]
  },
  {
   "cell_type": "code",
   "execution_count": 18,
   "id": "e7699a4f",
   "metadata": {},
   "outputs": [],
   "source": [
    "#I can ignore those rows with apply and a custom function"
   ]
  },
  {
   "cell_type": "code",
   "execution_count": 19,
   "id": "bd82771e",
   "metadata": {},
   "outputs": [],
   "source": [
    "#writing function to calculate volume in cm cubed\n",
    "def calc_prod_vol(df):\n",
    "    #use try except block so that if I run into the product of nans I can replace the Nan with a 0 \n",
    "    try:\n",
    "        x = df['product_length_cm'] * df['product_height_cm'] * df['product_width_cm']\n",
    "    except:\n",
    "        x = 0\n",
    "    return x"
   ]
  },
  {
   "cell_type": "code",
   "execution_count": 20,
   "id": "5e613d58",
   "metadata": {},
   "outputs": [],
   "source": [
    "#use apply and function to create new column\n",
    "product_info['volume_cm_cubed'] = product_info.apply(calc_prod_vol,axis = 1)"
   ]
  },
  {
   "cell_type": "code",
   "execution_count": 21,
   "id": "44a2ab52",
   "metadata": {},
   "outputs": [
    {
     "data": {
      "text/html": [
       "<div>\n",
       "<style scoped>\n",
       "    .dataframe tbody tr th:only-of-type {\n",
       "        vertical-align: middle;\n",
       "    }\n",
       "\n",
       "    .dataframe tbody tr th {\n",
       "        vertical-align: top;\n",
       "    }\n",
       "\n",
       "    .dataframe thead th {\n",
       "        text-align: right;\n",
       "    }\n",
       "</style>\n",
       "<table border=\"1\" class=\"dataframe\">\n",
       "  <thead>\n",
       "    <tr style=\"text-align: right;\">\n",
       "      <th></th>\n",
       "      <th>product_id</th>\n",
       "      <th>product_category_name</th>\n",
       "      <th>product_name_lenght</th>\n",
       "      <th>product_description_lenght</th>\n",
       "      <th>product_photos_qty</th>\n",
       "      <th>product_weight_g</th>\n",
       "      <th>product_length_cm</th>\n",
       "      <th>product_height_cm</th>\n",
       "      <th>product_width_cm</th>\n",
       "      <th>volume_cm_cubed</th>\n",
       "    </tr>\n",
       "  </thead>\n",
       "  <tbody>\n",
       "    <tr>\n",
       "      <th>0</th>\n",
       "      <td>1e9e8ef04dbcff4541ed26657ea517e5</td>\n",
       "      <td>perfumery</td>\n",
       "      <td>40.0</td>\n",
       "      <td>287.0</td>\n",
       "      <td>1.0</td>\n",
       "      <td>225.0</td>\n",
       "      <td>16.0</td>\n",
       "      <td>10.0</td>\n",
       "      <td>14.0</td>\n",
       "      <td>2240.0</td>\n",
       "    </tr>\n",
       "    <tr>\n",
       "      <th>1</th>\n",
       "      <td>3aa071139cb16b67ca9e5dea641aaa2f</td>\n",
       "      <td>art</td>\n",
       "      <td>44.0</td>\n",
       "      <td>276.0</td>\n",
       "      <td>1.0</td>\n",
       "      <td>1000.0</td>\n",
       "      <td>30.0</td>\n",
       "      <td>18.0</td>\n",
       "      <td>20.0</td>\n",
       "      <td>10800.0</td>\n",
       "    </tr>\n",
       "    <tr>\n",
       "      <th>2</th>\n",
       "      <td>96bd76ec8810374ed1b65e291975717f</td>\n",
       "      <td>sports_leisure</td>\n",
       "      <td>46.0</td>\n",
       "      <td>250.0</td>\n",
       "      <td>1.0</td>\n",
       "      <td>154.0</td>\n",
       "      <td>18.0</td>\n",
       "      <td>9.0</td>\n",
       "      <td>15.0</td>\n",
       "      <td>2430.0</td>\n",
       "    </tr>\n",
       "    <tr>\n",
       "      <th>3</th>\n",
       "      <td>cef67bcfe19066a932b7673e239eb23d</td>\n",
       "      <td>baby</td>\n",
       "      <td>27.0</td>\n",
       "      <td>261.0</td>\n",
       "      <td>1.0</td>\n",
       "      <td>371.0</td>\n",
       "      <td>26.0</td>\n",
       "      <td>4.0</td>\n",
       "      <td>26.0</td>\n",
       "      <td>2704.0</td>\n",
       "    </tr>\n",
       "    <tr>\n",
       "      <th>4</th>\n",
       "      <td>9dc1a7de274444849c219cff195d0b71</td>\n",
       "      <td>housewares</td>\n",
       "      <td>37.0</td>\n",
       "      <td>402.0</td>\n",
       "      <td>4.0</td>\n",
       "      <td>625.0</td>\n",
       "      <td>20.0</td>\n",
       "      <td>17.0</td>\n",
       "      <td>13.0</td>\n",
       "      <td>4420.0</td>\n",
       "    </tr>\n",
       "    <tr>\n",
       "      <th>...</th>\n",
       "      <td>...</td>\n",
       "      <td>...</td>\n",
       "      <td>...</td>\n",
       "      <td>...</td>\n",
       "      <td>...</td>\n",
       "      <td>...</td>\n",
       "      <td>...</td>\n",
       "      <td>...</td>\n",
       "      <td>...</td>\n",
       "      <td>...</td>\n",
       "    </tr>\n",
       "    <tr>\n",
       "      <th>32946</th>\n",
       "      <td>a0b7d5a992ccda646f2d34e418fff5a0</td>\n",
       "      <td>furniture_decor</td>\n",
       "      <td>45.0</td>\n",
       "      <td>67.0</td>\n",
       "      <td>2.0</td>\n",
       "      <td>12300.0</td>\n",
       "      <td>40.0</td>\n",
       "      <td>40.0</td>\n",
       "      <td>40.0</td>\n",
       "      <td>64000.0</td>\n",
       "    </tr>\n",
       "    <tr>\n",
       "      <th>32947</th>\n",
       "      <td>bf4538d88321d0fd4412a93c974510e6</td>\n",
       "      <td>construction_tools_lights</td>\n",
       "      <td>41.0</td>\n",
       "      <td>971.0</td>\n",
       "      <td>1.0</td>\n",
       "      <td>1700.0</td>\n",
       "      <td>16.0</td>\n",
       "      <td>19.0</td>\n",
       "      <td>16.0</td>\n",
       "      <td>4864.0</td>\n",
       "    </tr>\n",
       "    <tr>\n",
       "      <th>32948</th>\n",
       "      <td>9a7c6041fa9592d9d9ef6cfe62a71f8c</td>\n",
       "      <td>bed_bath_table</td>\n",
       "      <td>50.0</td>\n",
       "      <td>799.0</td>\n",
       "      <td>1.0</td>\n",
       "      <td>1400.0</td>\n",
       "      <td>27.0</td>\n",
       "      <td>7.0</td>\n",
       "      <td>27.0</td>\n",
       "      <td>5103.0</td>\n",
       "    </tr>\n",
       "    <tr>\n",
       "      <th>32949</th>\n",
       "      <td>83808703fc0706a22e264b9d75f04a2e</td>\n",
       "      <td>computers_accessories</td>\n",
       "      <td>60.0</td>\n",
       "      <td>156.0</td>\n",
       "      <td>2.0</td>\n",
       "      <td>700.0</td>\n",
       "      <td>31.0</td>\n",
       "      <td>13.0</td>\n",
       "      <td>20.0</td>\n",
       "      <td>8060.0</td>\n",
       "    </tr>\n",
       "    <tr>\n",
       "      <th>32950</th>\n",
       "      <td>106392145fca363410d287a815be6de4</td>\n",
       "      <td>bed_bath_table</td>\n",
       "      <td>58.0</td>\n",
       "      <td>309.0</td>\n",
       "      <td>1.0</td>\n",
       "      <td>2083.0</td>\n",
       "      <td>12.0</td>\n",
       "      <td>2.0</td>\n",
       "      <td>7.0</td>\n",
       "      <td>168.0</td>\n",
       "    </tr>\n",
       "  </tbody>\n",
       "</table>\n",
       "<p>32951 rows × 10 columns</p>\n",
       "</div>"
      ],
      "text/plain": [
       "                             product_id      product_category_name  \\\n",
       "0      1e9e8ef04dbcff4541ed26657ea517e5                  perfumery   \n",
       "1      3aa071139cb16b67ca9e5dea641aaa2f                        art   \n",
       "2      96bd76ec8810374ed1b65e291975717f             sports_leisure   \n",
       "3      cef67bcfe19066a932b7673e239eb23d                       baby   \n",
       "4      9dc1a7de274444849c219cff195d0b71                 housewares   \n",
       "...                                 ...                        ...   \n",
       "32946  a0b7d5a992ccda646f2d34e418fff5a0            furniture_decor   \n",
       "32947  bf4538d88321d0fd4412a93c974510e6  construction_tools_lights   \n",
       "32948  9a7c6041fa9592d9d9ef6cfe62a71f8c             bed_bath_table   \n",
       "32949  83808703fc0706a22e264b9d75f04a2e      computers_accessories   \n",
       "32950  106392145fca363410d287a815be6de4             bed_bath_table   \n",
       "\n",
       "       product_name_lenght  product_description_lenght  product_photos_qty  \\\n",
       "0                     40.0                       287.0                 1.0   \n",
       "1                     44.0                       276.0                 1.0   \n",
       "2                     46.0                       250.0                 1.0   \n",
       "3                     27.0                       261.0                 1.0   \n",
       "4                     37.0                       402.0                 4.0   \n",
       "...                    ...                         ...                 ...   \n",
       "32946                 45.0                        67.0                 2.0   \n",
       "32947                 41.0                       971.0                 1.0   \n",
       "32948                 50.0                       799.0                 1.0   \n",
       "32949                 60.0                       156.0                 2.0   \n",
       "32950                 58.0                       309.0                 1.0   \n",
       "\n",
       "       product_weight_g  product_length_cm  product_height_cm  \\\n",
       "0                 225.0               16.0               10.0   \n",
       "1                1000.0               30.0               18.0   \n",
       "2                 154.0               18.0                9.0   \n",
       "3                 371.0               26.0                4.0   \n",
       "4                 625.0               20.0               17.0   \n",
       "...                 ...                ...                ...   \n",
       "32946           12300.0               40.0               40.0   \n",
       "32947            1700.0               16.0               19.0   \n",
       "32948            1400.0               27.0                7.0   \n",
       "32949             700.0               31.0               13.0   \n",
       "32950            2083.0               12.0                2.0   \n",
       "\n",
       "       product_width_cm  volume_cm_cubed  \n",
       "0                  14.0           2240.0  \n",
       "1                  20.0          10800.0  \n",
       "2                  15.0           2430.0  \n",
       "3                  26.0           2704.0  \n",
       "4                  13.0           4420.0  \n",
       "...                 ...              ...  \n",
       "32946              40.0          64000.0  \n",
       "32947              16.0           4864.0  \n",
       "32948              27.0           5103.0  \n",
       "32949              20.0           8060.0  \n",
       "32950               7.0            168.0  \n",
       "\n",
       "[32951 rows x 10 columns]"
      ]
     },
     "execution_count": 21,
     "metadata": {},
     "output_type": "execute_result"
    }
   ],
   "source": [
    "product_info"
   ]
  },
  {
   "cell_type": "code",
   "execution_count": 22,
   "id": "6baf237d",
   "metadata": {},
   "outputs": [],
   "source": [
    "# going to translate the reviews from Portugese to English"
   ]
  },
  {
   "cell_type": "code",
   "execution_count": 23,
   "id": "2d559c2d",
   "metadata": {
    "scrolled": true
   },
   "outputs": [
    {
     "name": "stderr",
     "output_type": "stream",
     "text": [
      "Using region Washington server backend.\n"
     ]
    }
   ],
   "source": [
    "#importing the translating package so I can translate the portugese reviews\n",
    "import translators as ts\n"
   ]
  },
  {
   "cell_type": "code",
   "execution_count": 24,
   "id": "6f5a5a4a",
   "metadata": {},
   "outputs": [
    {
     "data": {
      "text/html": [
       "<div>\n",
       "<style scoped>\n",
       "    .dataframe tbody tr th:only-of-type {\n",
       "        vertical-align: middle;\n",
       "    }\n",
       "\n",
       "    .dataframe tbody tr th {\n",
       "        vertical-align: top;\n",
       "    }\n",
       "\n",
       "    .dataframe thead th {\n",
       "        text-align: right;\n",
       "    }\n",
       "</style>\n",
       "<table border=\"1\" class=\"dataframe\">\n",
       "  <thead>\n",
       "    <tr style=\"text-align: right;\">\n",
       "      <th></th>\n",
       "      <th>review_id</th>\n",
       "      <th>order_id</th>\n",
       "      <th>review_score</th>\n",
       "      <th>review_comment_title</th>\n",
       "      <th>review_comment_message</th>\n",
       "      <th>review_creation_date</th>\n",
       "      <th>review_answer_timestamp</th>\n",
       "    </tr>\n",
       "  </thead>\n",
       "  <tbody>\n",
       "    <tr>\n",
       "      <th>3</th>\n",
       "      <td>e64fb393e7b32834bb789ff8bb30750e</td>\n",
       "      <td>658677c97b385a9be170737859d3511b</td>\n",
       "      <td>5</td>\n",
       "      <td>NaN</td>\n",
       "      <td>Recebi bem antes do prazo estipulado.</td>\n",
       "      <td>2017-04-21 00:00:00</td>\n",
       "      <td>2017-04-21 22:02:06</td>\n",
       "    </tr>\n",
       "    <tr>\n",
       "      <th>4</th>\n",
       "      <td>f7c4243c7fe1938f181bec41a392bdeb</td>\n",
       "      <td>8e6bfb81e283fa7e4f11123a3fb894f1</td>\n",
       "      <td>5</td>\n",
       "      <td>NaN</td>\n",
       "      <td>Parabéns lojas lannister adorei comprar pela I...</td>\n",
       "      <td>2018-03-01 00:00:00</td>\n",
       "      <td>2018-03-02 10:26:53</td>\n",
       "    </tr>\n",
       "    <tr>\n",
       "      <th>9</th>\n",
       "      <td>8670d52e15e00043ae7de4c01cc2fe06</td>\n",
       "      <td>b9bf720beb4ab3728760088589c62129</td>\n",
       "      <td>4</td>\n",
       "      <td>recomendo</td>\n",
       "      <td>aparelho eficiente. no site a marca do aparelh...</td>\n",
       "      <td>2018-05-22 00:00:00</td>\n",
       "      <td>2018-05-23 16:45:47</td>\n",
       "    </tr>\n",
       "    <tr>\n",
       "      <th>12</th>\n",
       "      <td>4b49719c8a200003f700d3d986ea1a19</td>\n",
       "      <td>9d6f15f95d01e79bd1349cc208361f09</td>\n",
       "      <td>4</td>\n",
       "      <td>NaN</td>\n",
       "      <td>Mas um pouco ,travando...pelo valor ta Boa.\\r\\n</td>\n",
       "      <td>2018-02-16 00:00:00</td>\n",
       "      <td>2018-02-20 10:52:22</td>\n",
       "    </tr>\n",
       "    <tr>\n",
       "      <th>15</th>\n",
       "      <td>3948b09f7c818e2d86c9a546758b2335</td>\n",
       "      <td>e51478e7e277a83743b6f9991dbfa3fb</td>\n",
       "      <td>5</td>\n",
       "      <td>Super recomendo</td>\n",
       "      <td>Vendedor confiável, produto ok e entrega antes...</td>\n",
       "      <td>2018-05-23 00:00:00</td>\n",
       "      <td>2018-05-24 03:00:01</td>\n",
       "    </tr>\n",
       "    <tr>\n",
       "      <th>...</th>\n",
       "      <td>...</td>\n",
       "      <td>...</td>\n",
       "      <td>...</td>\n",
       "      <td>...</td>\n",
       "      <td>...</td>\n",
       "      <td>...</td>\n",
       "      <td>...</td>\n",
       "    </tr>\n",
       "    <tr>\n",
       "      <th>99205</th>\n",
       "      <td>98fffa80dc9acbde7388bef1600f3b15</td>\n",
       "      <td>d398e9c82363c12527f71801bf0e6100</td>\n",
       "      <td>4</td>\n",
       "      <td>NaN</td>\n",
       "      <td>para este produto recebi de acordo com a compr...</td>\n",
       "      <td>2017-11-29 00:00:00</td>\n",
       "      <td>2017-11-30 15:52:51</td>\n",
       "    </tr>\n",
       "    <tr>\n",
       "      <th>99208</th>\n",
       "      <td>df5fae90e85354241d5d64a8955b2b09</td>\n",
       "      <td>509b86c65fe4e2ad5b96408cfef9755e</td>\n",
       "      <td>5</td>\n",
       "      <td>NaN</td>\n",
       "      <td>Entregou dentro do prazo. O produto chegou em ...</td>\n",
       "      <td>2018-02-07 00:00:00</td>\n",
       "      <td>2018-02-19 19:47:23</td>\n",
       "    </tr>\n",
       "    <tr>\n",
       "      <th>99215</th>\n",
       "      <td>a709d176f59bc3af77f4149c96bae357</td>\n",
       "      <td>d5cb12269711bd1eaf7eed8fd32a7c95</td>\n",
       "      <td>3</td>\n",
       "      <td>NaN</td>\n",
       "      <td>O produto não foi enviado com NF, não existe v...</td>\n",
       "      <td>2018-05-19 00:00:00</td>\n",
       "      <td>2018-05-20 21:51:06</td>\n",
       "    </tr>\n",
       "    <tr>\n",
       "      <th>99221</th>\n",
       "      <td>b3de70c89b1510c4cd3d0649fd302472</td>\n",
       "      <td>55d4004744368f5571d1f590031933e4</td>\n",
       "      <td>5</td>\n",
       "      <td>NaN</td>\n",
       "      <td>Excelente mochila, entrega super rápida. Super...</td>\n",
       "      <td>2018-03-22 00:00:00</td>\n",
       "      <td>2018-03-23 09:10:43</td>\n",
       "    </tr>\n",
       "    <tr>\n",
       "      <th>99223</th>\n",
       "      <td>efe49f1d6f951dd88b51e6ccd4cc548f</td>\n",
       "      <td>90531360ecb1eec2a1fbb265a0db0508</td>\n",
       "      <td>1</td>\n",
       "      <td>NaN</td>\n",
       "      <td>meu produto chegou e ja tenho que devolver, po...</td>\n",
       "      <td>2017-07-03 00:00:00</td>\n",
       "      <td>2017-07-03 21:01:49</td>\n",
       "    </tr>\n",
       "  </tbody>\n",
       "</table>\n",
       "<p>40977 rows × 7 columns</p>\n",
       "</div>"
      ],
      "text/plain": [
       "                              review_id                          order_id  \\\n",
       "3      e64fb393e7b32834bb789ff8bb30750e  658677c97b385a9be170737859d3511b   \n",
       "4      f7c4243c7fe1938f181bec41a392bdeb  8e6bfb81e283fa7e4f11123a3fb894f1   \n",
       "9      8670d52e15e00043ae7de4c01cc2fe06  b9bf720beb4ab3728760088589c62129   \n",
       "12     4b49719c8a200003f700d3d986ea1a19  9d6f15f95d01e79bd1349cc208361f09   \n",
       "15     3948b09f7c818e2d86c9a546758b2335  e51478e7e277a83743b6f9991dbfa3fb   \n",
       "...                                 ...                               ...   \n",
       "99205  98fffa80dc9acbde7388bef1600f3b15  d398e9c82363c12527f71801bf0e6100   \n",
       "99208  df5fae90e85354241d5d64a8955b2b09  509b86c65fe4e2ad5b96408cfef9755e   \n",
       "99215  a709d176f59bc3af77f4149c96bae357  d5cb12269711bd1eaf7eed8fd32a7c95   \n",
       "99221  b3de70c89b1510c4cd3d0649fd302472  55d4004744368f5571d1f590031933e4   \n",
       "99223  efe49f1d6f951dd88b51e6ccd4cc548f  90531360ecb1eec2a1fbb265a0db0508   \n",
       "\n",
       "       review_score review_comment_title  \\\n",
       "3                 5                  NaN   \n",
       "4                 5                  NaN   \n",
       "9                 4            recomendo   \n",
       "12                4                  NaN   \n",
       "15                5      Super recomendo   \n",
       "...             ...                  ...   \n",
       "99205             4                  NaN   \n",
       "99208             5                  NaN   \n",
       "99215             3                  NaN   \n",
       "99221             5                  NaN   \n",
       "99223             1                  NaN   \n",
       "\n",
       "                                  review_comment_message review_creation_date  \\\n",
       "3                  Recebi bem antes do prazo estipulado.  2017-04-21 00:00:00   \n",
       "4      Parabéns lojas lannister adorei comprar pela I...  2018-03-01 00:00:00   \n",
       "9      aparelho eficiente. no site a marca do aparelh...  2018-05-22 00:00:00   \n",
       "12       Mas um pouco ,travando...pelo valor ta Boa.\\r\\n  2018-02-16 00:00:00   \n",
       "15     Vendedor confiável, produto ok e entrega antes...  2018-05-23 00:00:00   \n",
       "...                                                  ...                  ...   \n",
       "99205  para este produto recebi de acordo com a compr...  2017-11-29 00:00:00   \n",
       "99208  Entregou dentro do prazo. O produto chegou em ...  2018-02-07 00:00:00   \n",
       "99215  O produto não foi enviado com NF, não existe v...  2018-05-19 00:00:00   \n",
       "99221  Excelente mochila, entrega super rápida. Super...  2018-03-22 00:00:00   \n",
       "99223  meu produto chegou e ja tenho que devolver, po...  2017-07-03 00:00:00   \n",
       "\n",
       "      review_answer_timestamp  \n",
       "3         2017-04-21 22:02:06  \n",
       "4         2018-03-02 10:26:53  \n",
       "9         2018-05-23 16:45:47  \n",
       "12        2018-02-20 10:52:22  \n",
       "15        2018-05-24 03:00:01  \n",
       "...                       ...  \n",
       "99205     2017-11-30 15:52:51  \n",
       "99208     2018-02-19 19:47:23  \n",
       "99215     2018-05-20 21:51:06  \n",
       "99221     2018-03-23 09:10:43  \n",
       "99223     2017-07-03 21:01:49  \n",
       "\n",
       "[40977 rows x 7 columns]"
      ]
     },
     "execution_count": 24,
     "metadata": {},
     "output_type": "execute_result"
    }
   ],
   "source": [
    "review_scores[~review_scores['review_comment_message'].isna()]\n",
    "#there are 40977 comments that need to be translated"
   ]
  },
  {
   "cell_type": "code",
   "execution_count": 25,
   "id": "421910e1",
   "metadata": {},
   "outputs": [],
   "source": [
    "#creating custom function to go line by line and translate comments\n",
    "def translate_to_english(df):\n",
    "    try:\n",
    "        #translation part\n",
    "        review = df['review_comment_message']\n",
    "        line = ts.translate_text(review)\n",
    "    except:\n",
    "        #return empty string if there is no message\n",
    "        line = ''\n",
    "    return line"
   ]
  },
  {
   "cell_type": "code",
   "execution_count": 26,
   "id": "55c314bc",
   "metadata": {},
   "outputs": [
    {
     "data": {
      "text/plain": [
       "22.765"
      ]
     },
     "execution_count": 26,
     "metadata": {},
     "output_type": "execute_result"
    }
   ],
   "source": [
    "#lets say each comment takes 2 seconds to translate.\n",
    "40977* 2 / 60 / 60\n",
    "\n",
    "#which is 22.765 hours - im going to have to break this up"
   ]
  },
  {
   "cell_type": "code",
   "execution_count": null,
   "id": "96886684",
   "metadata": {
    "scrolled": true
   },
   "outputs": [],
   "source": [
    "#reviews_1_5000 = review_scores[:5000].apply(translate_to_english,axis=1)"
   ]
  },
  {
   "cell_type": "code",
   "execution_count": null,
   "id": "d33df867",
   "metadata": {},
   "outputs": [],
   "source": [
    "#comment the code that sends reviews to a pickle so don't overwrite the pickle\n",
    "\n",
    "#with open('reviews_1_5000.pickle', 'wb') as handle:\n",
    "    #pickle.dump(reviews_1_5000, handle, protocol=pickle.HIGHEST_PROTOCOL)"
   ]
  },
  {
   "cell_type": "code",
   "execution_count": null,
   "id": "d52e3f4b",
   "metadata": {
    "scrolled": true
   },
   "outputs": [],
   "source": [
    "#imports rows 0-4999 into notebook data\n",
    "#with open('reviews_1_5000.pickle', 'rb') as handle:\n",
    "    #reviews_1_5000 = pickle.load(handle)"
   ]
  },
  {
   "cell_type": "code",
   "execution_count": null,
   "id": "7ae09a52",
   "metadata": {},
   "outputs": [],
   "source": [
    "reviews_1_5000"
   ]
  },
  {
   "cell_type": "code",
   "execution_count": null,
   "id": "e92eb621",
   "metadata": {
    "scrolled": true
   },
   "outputs": [],
   "source": [
    "reviews_5000_10000 = review_scores[5000:10000].apply(translate_to_english,axis=1)"
   ]
  },
  {
   "cell_type": "code",
   "execution_count": null,
   "id": "53fd6941",
   "metadata": {},
   "outputs": [],
   "source": [
    "reviews_5000_10000"
   ]
  },
  {
   "cell_type": "code",
   "execution_count": null,
   "id": "2b8ad1e4",
   "metadata": {},
   "outputs": [],
   "source": [
    "#with open('reviews_5000_10000.pickle', 'wb') as handle:\n",
    "    #pickle.dump(reviews_5000_10000, handle, protocol=pickle.HIGHEST_PROTOCOL)"
   ]
  },
  {
   "cell_type": "code",
   "execution_count": null,
   "id": "f5baa464",
   "metadata": {},
   "outputs": [],
   "source": [
    "reviews_10000_15000 = review_scores[10000:15000].apply(translate_to_english,axis=1)"
   ]
  },
  {
   "cell_type": "code",
   "execution_count": null,
   "id": "b2006479",
   "metadata": {},
   "outputs": [],
   "source": [
    "reviews_10000_15000"
   ]
  },
  {
   "cell_type": "code",
   "execution_count": null,
   "id": "12a0b757",
   "metadata": {},
   "outputs": [],
   "source": [
    "#with open('reviews_10000_15000.pickle', 'wb') as handle:\n",
    "    #pickle.dump(reviews_10000_15000, handle, protocol=pickle.HIGHEST_PROTOCOL)"
   ]
  },
  {
   "cell_type": "code",
   "execution_count": null,
   "id": "d301f32e",
   "metadata": {},
   "outputs": [],
   "source": [
    "reviews_15000_20000 = review_scores[15000:20000].apply(translate_to_english,axis=1)"
   ]
  },
  {
   "cell_type": "code",
   "execution_count": null,
   "id": "59973aac",
   "metadata": {},
   "outputs": [],
   "source": [
    "reviews_15000_20000"
   ]
  },
  {
   "cell_type": "code",
   "execution_count": null,
   "id": "4bd10678",
   "metadata": {},
   "outputs": [],
   "source": [
    "#with open('reviews_15000_20000.pickle', 'wb') as handle:\n",
    "    #pickle.dump(reviews_15000_20000, handle, protocol=pickle.HIGHEST_PROTOCOL)"
   ]
  },
  {
   "cell_type": "code",
   "execution_count": null,
   "id": "55fda70c",
   "metadata": {},
   "outputs": [],
   "source": [
    "reviews_20000_25000 = review_scores[20000:25000].apply(translate_to_english,axis=1)"
   ]
  },
  {
   "cell_type": "code",
   "execution_count": null,
   "id": "5032403a",
   "metadata": {},
   "outputs": [],
   "source": [
    "reviews_20000_25000"
   ]
  },
  {
   "cell_type": "code",
   "execution_count": null,
   "id": "b05479e5",
   "metadata": {},
   "outputs": [],
   "source": [
    "#with open('reviews_20000_25000.pickle', 'wb') as handle:\n",
    "    #pickle.dump(reviews_20000_25000, handle, protocol=pickle.HIGHEST_PROTOCOL)"
   ]
  },
  {
   "cell_type": "code",
   "execution_count": null,
   "id": "47872ef0",
   "metadata": {},
   "outputs": [],
   "source": [
    "reviews_25000_30000 = review_scores[25000:30000].apply(translate_to_english,axis=1)"
   ]
  },
  {
   "cell_type": "code",
   "execution_count": null,
   "id": "3d7df04d",
   "metadata": {},
   "outputs": [],
   "source": [
    "reviews_25000_30000"
   ]
  },
  {
   "cell_type": "code",
   "execution_count": null,
   "id": "7df5e3bc",
   "metadata": {},
   "outputs": [],
   "source": [
    "#with open('reviews_25000_30000.pickle', 'wb') as handle:\n",
    "    #pickle.dump(reviews_25000_30000, handle, protocol=pickle.HIGHEST_PROTOCOL)"
   ]
  },
  {
   "cell_type": "code",
   "execution_count": null,
   "id": "e00c1c3e",
   "metadata": {},
   "outputs": [],
   "source": [
    "reviews_30000_35000 = review_scores[30000:35000].apply(translate_to_english,axis=1)"
   ]
  },
  {
   "cell_type": "code",
   "execution_count": null,
   "id": "091d857c",
   "metadata": {},
   "outputs": [],
   "source": [
    "reviews_30000_35000"
   ]
  },
  {
   "cell_type": "code",
   "execution_count": null,
   "id": "0a782353",
   "metadata": {},
   "outputs": [],
   "source": [
    "#with open('reviews_30000_35000.pickle', 'wb') as handle:\n",
    "    #pickle.dump(reviews_30000_35000, handle, protocol=pickle.HIGHEST_PROTOCOL)"
   ]
  },
  {
   "cell_type": "code",
   "execution_count": null,
   "id": "9a9ae75b",
   "metadata": {},
   "outputs": [],
   "source": [
    "reviews_35000_40000 = review_scores[35000:40000].apply(translate_to_english,axis=1)\n",
    "reviews_35000_40000"
   ]
  },
  {
   "cell_type": "code",
   "execution_count": null,
   "id": "b8afc046",
   "metadata": {},
   "outputs": [],
   "source": [
    "#with open('reviews_35000_40000.pickle', 'wb') as handle:\n",
    "    #pickle.dump(reviews_35000_40000, handle, protocol=pickle.HIGHEST_PROTOCOL)"
   ]
  },
  {
   "cell_type": "code",
   "execution_count": null,
   "id": "8d45aa0e",
   "metadata": {},
   "outputs": [],
   "source": [
    "reviews_40000_45000 = review_scores[40000:45000].apply(translate_to_english,axis=1)\n",
    "reviews_40000_45000"
   ]
  },
  {
   "cell_type": "code",
   "execution_count": null,
   "id": "641a1fde",
   "metadata": {},
   "outputs": [],
   "source": [
    "#with open('reviews_40000_45000.pickle', 'wb') as handle:\n",
    "    #pickle.dump(reviews_40000_45000, handle, protocol=pickle.HIGHEST_PROTOCOL)"
   ]
  },
  {
   "cell_type": "code",
   "execution_count": null,
   "id": "7f1aef33",
   "metadata": {},
   "outputs": [],
   "source": [
    "reviews_45000_50000 = review_scores[45000:50000].apply(translate_to_english,axis=1)\n",
    "reviews_45000_50000"
   ]
  },
  {
   "cell_type": "code",
   "execution_count": null,
   "id": "2f37e22d",
   "metadata": {},
   "outputs": [],
   "source": [
    "#with open('reviews_45000_50000.pickle', 'wb') as handle:\n",
    "    #pickle.dump(reviews_45000_50000, handle, protocol=pickle.HIGHEST_PROTOCOL)"
   ]
  },
  {
   "cell_type": "code",
   "execution_count": null,
   "id": "e31190b5",
   "metadata": {},
   "outputs": [],
   "source": [
    "reviews_50000_55000 = review_scores[50000:55000].apply(translate_to_english,axis=1)\n",
    "reviews_50000_55000"
   ]
  },
  {
   "cell_type": "code",
   "execution_count": null,
   "id": "c5e3cc14",
   "metadata": {},
   "outputs": [],
   "source": [
    "#with open('reviews_50000_55000.pickle', 'wb') as handle:\n",
    "    #pickle.dump(reviews_50000_55000, handle, protocol=pickle.HIGHEST_PROTOCOL)"
   ]
  },
  {
   "cell_type": "code",
   "execution_count": null,
   "id": "8a600297",
   "metadata": {},
   "outputs": [],
   "source": [
    "reviews_55000_60000 = review_scores[55000:60000].apply(translate_to_english,axis=1)\n",
    "reviews_55000_60000"
   ]
  },
  {
   "cell_type": "code",
   "execution_count": null,
   "id": "d4d7be5b",
   "metadata": {},
   "outputs": [],
   "source": [
    "#with open('reviews_55000_60000.pickle', 'wb') as handle:\n",
    "    #pickle.dump(reviews_55000_60000, handle, protocol=pickle.HIGHEST_PROTOCOL)"
   ]
  },
  {
   "cell_type": "code",
   "execution_count": null,
   "id": "a9c658bc",
   "metadata": {},
   "outputs": [],
   "source": [
    "reviews_60000_65000 = review_scores[60000:65000].apply(translate_to_english,axis=1)\n",
    "reviews_60000_65000"
   ]
  },
  {
   "cell_type": "code",
   "execution_count": null,
   "id": "181f8c20",
   "metadata": {},
   "outputs": [],
   "source": [
    "#with open('Pickled Translated Reviews/reviews_60000_65000.pickle', 'wb') as handle:\n",
    "    #pickle.dump(reviews_60000_65000, handle, protocol=pickle.HIGHEST_PROTOCOL)"
   ]
  },
  {
   "cell_type": "code",
   "execution_count": null,
   "id": "de94a020",
   "metadata": {},
   "outputs": [],
   "source": [
    "reviews_65000_70000 = review_scores[65000:70000].apply(translate_to_english,axis=1)\n",
    "reviews_65000_70000"
   ]
  },
  {
   "cell_type": "code",
   "execution_count": null,
   "id": "373ea0b1",
   "metadata": {},
   "outputs": [],
   "source": [
    "#with open('Pickled Translated Reviews/reviews_65000_70000.pickle', 'wb') as handle:\n",
    "    #pickle.dump(reviews_65000_70000, handle, protocol=pickle.HIGHEST_PROTOCOL)"
   ]
  },
  {
   "cell_type": "code",
   "execution_count": null,
   "id": "4b4e72d5",
   "metadata": {},
   "outputs": [],
   "source": [
    "reviews_70000_75000 = review_scores[70000:75000].apply(translate_to_english,axis=1)\n",
    "reviews_70000_75000"
   ]
  },
  {
   "cell_type": "code",
   "execution_count": null,
   "id": "56d36c7c",
   "metadata": {},
   "outputs": [],
   "source": [
    "#with open('Pickled Translated Reviews/reviews_70000_75000.pickle', 'wb') as handle:\n",
    "    #pickle.dump(reviews_70000_75000, handle, protocol=pickle.HIGHEST_PROTOCOL)"
   ]
  },
  {
   "cell_type": "code",
   "execution_count": null,
   "id": "2c6d8a0b",
   "metadata": {},
   "outputs": [],
   "source": [
    "reviews_75000_80000 = review_scores[75000:80000].apply(translate_to_english,axis=1)\n",
    "reviews_75000_80000"
   ]
  },
  {
   "cell_type": "code",
   "execution_count": null,
   "id": "ec842552",
   "metadata": {},
   "outputs": [],
   "source": [
    "#with open('Pickled Translated Reviews/reviews_75000_80000.pickle', 'wb') as handle:\n",
    "    #pickle.dump(reviews_75000_80000, handle, protocol=pickle.HIGHEST_PROTOCOL)"
   ]
  },
  {
   "cell_type": "code",
   "execution_count": 27,
   "id": "adff6470",
   "metadata": {},
   "outputs": [
    {
     "data": {
      "text/plain": [
       "80000                                                \n",
       "80001                                                \n",
       "80002                                                \n",
       "80003                                                \n",
       "80004                                                \n",
       "                             ...                     \n",
       "84995                                                \n",
       "84996                                                \n",
       "84997                                                \n",
       "84998                                                \n",
       "84999    Delivery ahead of schedule. My son loved it.\n",
       "Length: 5000, dtype: object"
      ]
     },
     "execution_count": 27,
     "metadata": {},
     "output_type": "execute_result"
    }
   ],
   "source": [
    "reviews_80000_85000 = review_scores[80000:85000].apply(translate_to_english,axis=1)\n",
    "reviews_80000_85000"
   ]
  },
  {
   "cell_type": "code",
   "execution_count": 28,
   "id": "58be971d",
   "metadata": {},
   "outputs": [],
   "source": [
    "#with open('Pickled Translated Reviews/reviews_80000_85000.pickle', 'wb') as handle:\n",
    "    #pickle.dump(reviews_80000_85000, handle, protocol=pickle.HIGHEST_PROTOCOL)"
   ]
  },
  {
   "cell_type": "code",
   "execution_count": null,
   "id": "38f56870",
   "metadata": {},
   "outputs": [],
   "source": []
  },
  {
   "cell_type": "code",
   "execution_count": 27,
   "id": "3e052a62",
   "metadata": {},
   "outputs": [
    {
     "data": {
      "text/plain": [
       "85000                                                     \n",
       "85001                                                     \n",
       "85002    I bought 240 tablets and 120 came in, I entere...\n",
       "85003                                                     \n",
       "85004                                                     \n",
       "                               ...                        \n",
       "89995                                                     \n",
       "89996                                                     \n",
       "89997                                                     \n",
       "89998                                       M.Good quality\n",
       "89999                                                     \n",
       "Length: 5000, dtype: object"
      ]
     },
     "execution_count": 27,
     "metadata": {},
     "output_type": "execute_result"
    }
   ],
   "source": [
    "reviews_85000_90000 = review_scores[85000:90000].apply(translate_to_english,axis=1)\n",
    "reviews_85000_90000"
   ]
  },
  {
   "cell_type": "code",
   "execution_count": 28,
   "id": "cc124b4a",
   "metadata": {},
   "outputs": [],
   "source": [
    "#with open('Pickled Translated Reviews/reviews_85000_90000.pickle', 'wb') as handle:\n",
    "    #pickle.dump(reviews_85000_90000, handle, protocol=pickle.HIGHEST_PROTOCOL)"
   ]
  },
  {
   "cell_type": "code",
   "execution_count": 27,
   "id": "cee20fab",
   "metadata": {},
   "outputs": [
    {
     "data": {
      "text/plain": [
       "90000                         Thank you for your attention\n",
       "90001                                                     \n",
       "90002                                                     \n",
       "90003                                                     \n",
       "90004                                                     \n",
       "                               ...                        \n",
       "94995                                                     \n",
       "94996                                                     \n",
       "94997                                                     \n",
       "94998                                                     \n",
       "94999    I received it before the deadline; The Optimal...\n",
       "Length: 5000, dtype: object"
      ]
     },
     "execution_count": 27,
     "metadata": {},
     "output_type": "execute_result"
    }
   ],
   "source": [
    "reviews_90000_95000 = review_scores[90000:95000].apply(translate_to_english,axis=1)\n",
    "reviews_90000_95000"
   ]
  },
  {
   "cell_type": "code",
   "execution_count": 28,
   "id": "8f6d69bf",
   "metadata": {},
   "outputs": [],
   "source": [
    "#with open('Pickled Translated Reviews/reviews_90000_95000.pickle', 'wb') as handle:\n",
    "    #pickle.dump(reviews_90000_95000, handle, protocol=pickle.HIGHEST_PROTOCOL)"
   ]
  },
  {
   "cell_type": "code",
   "execution_count": 29,
   "id": "36710855",
   "metadata": {},
   "outputs": [
    {
     "data": {
      "text/plain": [
       "99224"
      ]
     },
     "execution_count": 29,
     "metadata": {},
     "output_type": "execute_result"
    }
   ],
   "source": [
    "len(review_scores)"
   ]
  },
  {
   "cell_type": "code",
   "execution_count": 27,
   "id": "d7730b00",
   "metadata": {},
   "outputs": [
    {
     "data": {
      "text/plain": [
       "95000                                                     \n",
       "95001                                                     \n",
       "95002                                                     \n",
       "95003    Deliver before the deadline.... Very good mate...\n",
       "95004                                                     \n",
       "                               ...                        \n",
       "99219                                                     \n",
       "99220                                                     \n",
       "99221                                                     \n",
       "99222                                                     \n",
       "99223                                                     \n",
       "Length: 4224, dtype: object"
      ]
     },
     "execution_count": 27,
     "metadata": {},
     "output_type": "execute_result"
    }
   ],
   "source": [
    "reviews_95000_99224 = review_scores[95000:99225].apply(translate_to_english,axis=1)\n",
    "reviews_95000_99224"
   ]
  },
  {
   "cell_type": "code",
   "execution_count": 28,
   "id": "9b27f036",
   "metadata": {},
   "outputs": [],
   "source": [
    "#with open('Pickled Translated Reviews/reviews_95000_99224.pickle', 'wb') as handle:\n",
    "    #pickle.dump(reviews_95000_99224, handle, protocol=pickle.HIGHEST_PROTOCOL)"
   ]
  },
  {
   "cell_type": "code",
   "execution_count": 30,
   "id": "8cde15ba",
   "metadata": {},
   "outputs": [],
   "source": [
    "lst1=[1,2,3,4,5,6,7,8,9,10,11,12,13,14,15,16,17,18]\n",
    "lst2=[2,3,4,5,6,7,8,9,10,11,12,13,14,15,16,17,18,19]\n",
    "lst1 = [x*5 for x in lst1]\n",
    "lst2 = [x*5 for x in lst2]"
   ]
  },
  {
   "cell_type": "code",
   "execution_count": 41,
   "id": "3df8488e",
   "metadata": {},
   "outputs": [
    {
     "name": "stdout",
     "output_type": "stream",
     "text": [
      "reviews_5000_10000\n",
      "reviews_10000_15000\n",
      "reviews_15000_20000\n",
      "reviews_20000_25000\n",
      "reviews_25000_30000\n",
      "reviews_30000_35000\n",
      "reviews_35000_40000\n",
      "reviews_40000_45000\n",
      "reviews_45000_50000\n",
      "reviews_50000_55000\n",
      "reviews_55000_60000\n",
      "reviews_60000_65000\n",
      "reviews_65000_70000\n",
      "reviews_70000_75000\n",
      "reviews_75000_80000\n",
      "reviews_80000_85000\n",
      "reviews_85000_90000\n",
      "reviews_90000_95000\n"
     ]
    },
    {
     "data": {
      "text/plain": [
       "0                                                         \n",
       "1                                                         \n",
       "2                                                         \n",
       "3        I received it well before the stipulated deadl...\n",
       "4        Congratulations lannister stores loved buying ...\n",
       "                               ...                        \n",
       "99219                                                     \n",
       "99220                                                     \n",
       "99221                                                     \n",
       "99222                                                     \n",
       "99223                                                     \n",
       "Length: 99224, dtype: object"
      ]
     },
     "execution_count": 41,
     "metadata": {},
     "output_type": "execute_result"
    }
   ],
   "source": [
    "#start the dataframe with that will contain all reviews with the first 5000 reviews\n",
    "with open('Pickled Translated Reviews/reviews_1_5000.pickle', 'rb') as handle:\n",
    "        all_english_reviews = pickle.load(handle)\n",
    "for i,j in zip(lst1,lst2):\n",
    "    string = 'reviews_'+str(i)+'000_' + str(j)+'000'\n",
    "    print(string)\n",
    "    #retrieving data\n",
    "    with open('Pickled Translated Reviews/'+string+'.pickle', 'rb') as handle:\n",
    "        string = pickle.load(handle)\n",
    "    #concatinating each set of reviews\n",
    "    all_english_reviews = pd.concat([all_english_reviews, string], ignore_index=True,axis=0)\n",
    "#concatinate last set of reviews\n",
    "with open('Pickled Translated Reviews/reviews_95000_99224.pickle', 'rb') as handle:\n",
    "    string = pickle.load(handle)   \n",
    "all_english_reviews = pd.concat([all_english_reviews, string], ignore_index=True,axis=0)\n",
    "all_english_reviews"
   ]
  },
  {
   "cell_type": "code",
   "execution_count": 43,
   "id": "d8a382e2",
   "metadata": {},
   "outputs": [
    {
     "data": {
      "text/plain": [
       "99224"
      ]
     },
     "execution_count": 43,
     "metadata": {},
     "output_type": "execute_result"
    }
   ],
   "source": [
    "len(all_english_reviews.index)"
   ]
  },
  {
   "cell_type": "code",
   "execution_count": 44,
   "id": "15bff0ce",
   "metadata": {},
   "outputs": [],
   "source": [
    "#with open('Pickled Translated Reviews/All reviews combined/all_english_reviews.pickle', 'wb') as handle:\n",
    "    #pickle.dump(all_english_reviews, handle, protocol=pickle.HIGHEST_PROTOCOL)"
   ]
  },
  {
   "cell_type": "code",
   "execution_count": 23,
   "id": "4c166368",
   "metadata": {},
   "outputs": [],
   "source": [
    "with open('Pickled Translated Reviews/All reviews combined/all_english_reviews.pickle', 'rb') as handle:\n",
    "    all_english_reviews = pickle.load(handle)"
   ]
  },
  {
   "cell_type": "code",
   "execution_count": 23,
   "id": "e3b4c782",
   "metadata": {},
   "outputs": [
    {
     "data": {
      "text/html": [
       "<div>\n",
       "<style scoped>\n",
       "    .dataframe tbody tr th:only-of-type {\n",
       "        vertical-align: middle;\n",
       "    }\n",
       "\n",
       "    .dataframe tbody tr th {\n",
       "        vertical-align: top;\n",
       "    }\n",
       "\n",
       "    .dataframe thead th {\n",
       "        text-align: right;\n",
       "    }\n",
       "</style>\n",
       "<table border=\"1\" class=\"dataframe\">\n",
       "  <thead>\n",
       "    <tr style=\"text-align: right;\">\n",
       "      <th></th>\n",
       "      <th>review_id</th>\n",
       "      <th>order_id</th>\n",
       "      <th>review_score</th>\n",
       "      <th>review_comment_title</th>\n",
       "      <th>review_comment_message</th>\n",
       "      <th>review_creation_date</th>\n",
       "      <th>review_answer_timestamp</th>\n",
       "    </tr>\n",
       "  </thead>\n",
       "  <tbody>\n",
       "    <tr>\n",
       "      <th>3</th>\n",
       "      <td>e64fb393e7b32834bb789ff8bb30750e</td>\n",
       "      <td>658677c97b385a9be170737859d3511b</td>\n",
       "      <td>5</td>\n",
       "      <td>NaN</td>\n",
       "      <td>Recebi bem antes do prazo estipulado.</td>\n",
       "      <td>2017-04-21 00:00:00</td>\n",
       "      <td>2017-04-21 22:02:06</td>\n",
       "    </tr>\n",
       "    <tr>\n",
       "      <th>4</th>\n",
       "      <td>f7c4243c7fe1938f181bec41a392bdeb</td>\n",
       "      <td>8e6bfb81e283fa7e4f11123a3fb894f1</td>\n",
       "      <td>5</td>\n",
       "      <td>NaN</td>\n",
       "      <td>Parabéns lojas lannister adorei comprar pela I...</td>\n",
       "      <td>2018-03-01 00:00:00</td>\n",
       "      <td>2018-03-02 10:26:53</td>\n",
       "    </tr>\n",
       "    <tr>\n",
       "      <th>9</th>\n",
       "      <td>8670d52e15e00043ae7de4c01cc2fe06</td>\n",
       "      <td>b9bf720beb4ab3728760088589c62129</td>\n",
       "      <td>4</td>\n",
       "      <td>recomendo</td>\n",
       "      <td>aparelho eficiente. no site a marca do aparelh...</td>\n",
       "      <td>2018-05-22 00:00:00</td>\n",
       "      <td>2018-05-23 16:45:47</td>\n",
       "    </tr>\n",
       "    <tr>\n",
       "      <th>12</th>\n",
       "      <td>4b49719c8a200003f700d3d986ea1a19</td>\n",
       "      <td>9d6f15f95d01e79bd1349cc208361f09</td>\n",
       "      <td>4</td>\n",
       "      <td>NaN</td>\n",
       "      <td>Mas um pouco ,travando...pelo valor ta Boa.\\r\\n</td>\n",
       "      <td>2018-02-16 00:00:00</td>\n",
       "      <td>2018-02-20 10:52:22</td>\n",
       "    </tr>\n",
       "    <tr>\n",
       "      <th>15</th>\n",
       "      <td>3948b09f7c818e2d86c9a546758b2335</td>\n",
       "      <td>e51478e7e277a83743b6f9991dbfa3fb</td>\n",
       "      <td>5</td>\n",
       "      <td>Super recomendo</td>\n",
       "      <td>Vendedor confiável, produto ok e entrega antes...</td>\n",
       "      <td>2018-05-23 00:00:00</td>\n",
       "      <td>2018-05-24 03:00:01</td>\n",
       "    </tr>\n",
       "    <tr>\n",
       "      <th>...</th>\n",
       "      <td>...</td>\n",
       "      <td>...</td>\n",
       "      <td>...</td>\n",
       "      <td>...</td>\n",
       "      <td>...</td>\n",
       "      <td>...</td>\n",
       "      <td>...</td>\n",
       "    </tr>\n",
       "    <tr>\n",
       "      <th>99205</th>\n",
       "      <td>98fffa80dc9acbde7388bef1600f3b15</td>\n",
       "      <td>d398e9c82363c12527f71801bf0e6100</td>\n",
       "      <td>4</td>\n",
       "      <td>NaN</td>\n",
       "      <td>para este produto recebi de acordo com a compr...</td>\n",
       "      <td>2017-11-29 00:00:00</td>\n",
       "      <td>2017-11-30 15:52:51</td>\n",
       "    </tr>\n",
       "    <tr>\n",
       "      <th>99208</th>\n",
       "      <td>df5fae90e85354241d5d64a8955b2b09</td>\n",
       "      <td>509b86c65fe4e2ad5b96408cfef9755e</td>\n",
       "      <td>5</td>\n",
       "      <td>NaN</td>\n",
       "      <td>Entregou dentro do prazo. O produto chegou em ...</td>\n",
       "      <td>2018-02-07 00:00:00</td>\n",
       "      <td>2018-02-19 19:47:23</td>\n",
       "    </tr>\n",
       "    <tr>\n",
       "      <th>99215</th>\n",
       "      <td>a709d176f59bc3af77f4149c96bae357</td>\n",
       "      <td>d5cb12269711bd1eaf7eed8fd32a7c95</td>\n",
       "      <td>3</td>\n",
       "      <td>NaN</td>\n",
       "      <td>O produto não foi enviado com NF, não existe v...</td>\n",
       "      <td>2018-05-19 00:00:00</td>\n",
       "      <td>2018-05-20 21:51:06</td>\n",
       "    </tr>\n",
       "    <tr>\n",
       "      <th>99221</th>\n",
       "      <td>b3de70c89b1510c4cd3d0649fd302472</td>\n",
       "      <td>55d4004744368f5571d1f590031933e4</td>\n",
       "      <td>5</td>\n",
       "      <td>NaN</td>\n",
       "      <td>Excelente mochila, entrega super rápida. Super...</td>\n",
       "      <td>2018-03-22 00:00:00</td>\n",
       "      <td>2018-03-23 09:10:43</td>\n",
       "    </tr>\n",
       "    <tr>\n",
       "      <th>99223</th>\n",
       "      <td>efe49f1d6f951dd88b51e6ccd4cc548f</td>\n",
       "      <td>90531360ecb1eec2a1fbb265a0db0508</td>\n",
       "      <td>1</td>\n",
       "      <td>NaN</td>\n",
       "      <td>meu produto chegou e ja tenho que devolver, po...</td>\n",
       "      <td>2017-07-03 00:00:00</td>\n",
       "      <td>2017-07-03 21:01:49</td>\n",
       "    </tr>\n",
       "  </tbody>\n",
       "</table>\n",
       "<p>40977 rows × 7 columns</p>\n",
       "</div>"
      ],
      "text/plain": [
       "                              review_id                          order_id  \\\n",
       "3      e64fb393e7b32834bb789ff8bb30750e  658677c97b385a9be170737859d3511b   \n",
       "4      f7c4243c7fe1938f181bec41a392bdeb  8e6bfb81e283fa7e4f11123a3fb894f1   \n",
       "9      8670d52e15e00043ae7de4c01cc2fe06  b9bf720beb4ab3728760088589c62129   \n",
       "12     4b49719c8a200003f700d3d986ea1a19  9d6f15f95d01e79bd1349cc208361f09   \n",
       "15     3948b09f7c818e2d86c9a546758b2335  e51478e7e277a83743b6f9991dbfa3fb   \n",
       "...                                 ...                               ...   \n",
       "99205  98fffa80dc9acbde7388bef1600f3b15  d398e9c82363c12527f71801bf0e6100   \n",
       "99208  df5fae90e85354241d5d64a8955b2b09  509b86c65fe4e2ad5b96408cfef9755e   \n",
       "99215  a709d176f59bc3af77f4149c96bae357  d5cb12269711bd1eaf7eed8fd32a7c95   \n",
       "99221  b3de70c89b1510c4cd3d0649fd302472  55d4004744368f5571d1f590031933e4   \n",
       "99223  efe49f1d6f951dd88b51e6ccd4cc548f  90531360ecb1eec2a1fbb265a0db0508   \n",
       "\n",
       "       review_score review_comment_title  \\\n",
       "3                 5                  NaN   \n",
       "4                 5                  NaN   \n",
       "9                 4            recomendo   \n",
       "12                4                  NaN   \n",
       "15                5      Super recomendo   \n",
       "...             ...                  ...   \n",
       "99205             4                  NaN   \n",
       "99208             5                  NaN   \n",
       "99215             3                  NaN   \n",
       "99221             5                  NaN   \n",
       "99223             1                  NaN   \n",
       "\n",
       "                                  review_comment_message review_creation_date  \\\n",
       "3                  Recebi bem antes do prazo estipulado.  2017-04-21 00:00:00   \n",
       "4      Parabéns lojas lannister adorei comprar pela I...  2018-03-01 00:00:00   \n",
       "9      aparelho eficiente. no site a marca do aparelh...  2018-05-22 00:00:00   \n",
       "12       Mas um pouco ,travando...pelo valor ta Boa.\\r\\n  2018-02-16 00:00:00   \n",
       "15     Vendedor confiável, produto ok e entrega antes...  2018-05-23 00:00:00   \n",
       "...                                                  ...                  ...   \n",
       "99205  para este produto recebi de acordo com a compr...  2017-11-29 00:00:00   \n",
       "99208  Entregou dentro do prazo. O produto chegou em ...  2018-02-07 00:00:00   \n",
       "99215  O produto não foi enviado com NF, não existe v...  2018-05-19 00:00:00   \n",
       "99221  Excelente mochila, entrega super rápida. Super...  2018-03-22 00:00:00   \n",
       "99223  meu produto chegou e ja tenho que devolver, po...  2017-07-03 00:00:00   \n",
       "\n",
       "      review_answer_timestamp  \n",
       "3         2017-04-21 22:02:06  \n",
       "4         2018-03-02 10:26:53  \n",
       "9         2018-05-23 16:45:47  \n",
       "12        2018-02-20 10:52:22  \n",
       "15        2018-05-24 03:00:01  \n",
       "...                       ...  \n",
       "99205     2017-11-30 15:52:51  \n",
       "99208     2018-02-19 19:47:23  \n",
       "99215     2018-05-20 21:51:06  \n",
       "99221     2018-03-23 09:10:43  \n",
       "99223     2017-07-03 21:01:49  \n",
       "\n",
       "[40977 rows x 7 columns]"
      ]
     },
     "execution_count": 23,
     "metadata": {},
     "output_type": "execute_result"
    }
   ],
   "source": [
    "rows_w_comment=review_scores[~review_scores['review_comment_message'].isna()]\n",
    "rows_w_comment"
   ]
  },
  {
   "cell_type": "code",
   "execution_count": null,
   "id": "93fe7f75",
   "metadata": {},
   "outputs": [],
   "source": []
  },
  {
   "cell_type": "code",
   "execution_count": 85,
   "id": "27b161bc",
   "metadata": {},
   "outputs": [
    {
     "data": {
      "text/html": [
       "<div>\n",
       "<style scoped>\n",
       "    .dataframe tbody tr th:only-of-type {\n",
       "        vertical-align: middle;\n",
       "    }\n",
       "\n",
       "    .dataframe tbody tr th {\n",
       "        vertical-align: top;\n",
       "    }\n",
       "\n",
       "    .dataframe thead th {\n",
       "        text-align: right;\n",
       "    }\n",
       "</style>\n",
       "<table border=\"1\" class=\"dataframe\">\n",
       "  <thead>\n",
       "    <tr style=\"text-align: right;\">\n",
       "      <th></th>\n",
       "      <th>review_id</th>\n",
       "      <th>order_id</th>\n",
       "      <th>review_score</th>\n",
       "      <th>review_comment_title</th>\n",
       "      <th>review_comment_message</th>\n",
       "      <th>review_creation_date</th>\n",
       "      <th>review_answer_timestamp</th>\n",
       "    </tr>\n",
       "  </thead>\n",
       "  <tbody>\n",
       "    <tr>\n",
       "      <th>0</th>\n",
       "      <td>7bc2406110b926393aa56f80a40eba40</td>\n",
       "      <td>73fc7af87114b39712e6da79b0a377eb</td>\n",
       "      <td>4</td>\n",
       "      <td>NaN</td>\n",
       "      <td>NaN</td>\n",
       "      <td>2018-01-18 00:00:00</td>\n",
       "      <td>2018-01-18 21:46:59</td>\n",
       "    </tr>\n",
       "    <tr>\n",
       "      <th>1</th>\n",
       "      <td>80e641a11e56f04c1ad469d5645fdfde</td>\n",
       "      <td>a548910a1c6147796b98fdf73dbeba33</td>\n",
       "      <td>5</td>\n",
       "      <td>NaN</td>\n",
       "      <td>NaN</td>\n",
       "      <td>2018-03-10 00:00:00</td>\n",
       "      <td>2018-03-11 03:05:13</td>\n",
       "    </tr>\n",
       "    <tr>\n",
       "      <th>2</th>\n",
       "      <td>228ce5500dc1d8e020d8d1322874b6f0</td>\n",
       "      <td>f9e4b658b201a9f2ecdecbb34bed034b</td>\n",
       "      <td>5</td>\n",
       "      <td>NaN</td>\n",
       "      <td>NaN</td>\n",
       "      <td>2018-02-17 00:00:00</td>\n",
       "      <td>2018-02-18 14:36:24</td>\n",
       "    </tr>\n",
       "    <tr>\n",
       "      <th>3</th>\n",
       "      <td>e64fb393e7b32834bb789ff8bb30750e</td>\n",
       "      <td>658677c97b385a9be170737859d3511b</td>\n",
       "      <td>5</td>\n",
       "      <td>NaN</td>\n",
       "      <td>Recebi bem antes do prazo estipulado.</td>\n",
       "      <td>2017-04-21 00:00:00</td>\n",
       "      <td>2017-04-21 22:02:06</td>\n",
       "    </tr>\n",
       "    <tr>\n",
       "      <th>4</th>\n",
       "      <td>f7c4243c7fe1938f181bec41a392bdeb</td>\n",
       "      <td>8e6bfb81e283fa7e4f11123a3fb894f1</td>\n",
       "      <td>5</td>\n",
       "      <td>NaN</td>\n",
       "      <td>Parabéns lojas lannister adorei comprar pela I...</td>\n",
       "      <td>2018-03-01 00:00:00</td>\n",
       "      <td>2018-03-02 10:26:53</td>\n",
       "    </tr>\n",
       "    <tr>\n",
       "      <th>...</th>\n",
       "      <td>...</td>\n",
       "      <td>...</td>\n",
       "      <td>...</td>\n",
       "      <td>...</td>\n",
       "      <td>...</td>\n",
       "      <td>...</td>\n",
       "      <td>...</td>\n",
       "    </tr>\n",
       "    <tr>\n",
       "      <th>99219</th>\n",
       "      <td>574ed12dd733e5fa530cfd4bbf39d7c9</td>\n",
       "      <td>2a8c23fee101d4d5662fa670396eb8da</td>\n",
       "      <td>5</td>\n",
       "      <td>NaN</td>\n",
       "      <td>NaN</td>\n",
       "      <td>2018-07-07 00:00:00</td>\n",
       "      <td>2018-07-14 17:18:30</td>\n",
       "    </tr>\n",
       "    <tr>\n",
       "      <th>99220</th>\n",
       "      <td>f3897127253a9592a73be9bdfdf4ed7a</td>\n",
       "      <td>22ec9f0669f784db00fa86d035cf8602</td>\n",
       "      <td>5</td>\n",
       "      <td>NaN</td>\n",
       "      <td>NaN</td>\n",
       "      <td>2017-12-09 00:00:00</td>\n",
       "      <td>2017-12-11 20:06:42</td>\n",
       "    </tr>\n",
       "    <tr>\n",
       "      <th>99221</th>\n",
       "      <td>b3de70c89b1510c4cd3d0649fd302472</td>\n",
       "      <td>55d4004744368f5571d1f590031933e4</td>\n",
       "      <td>5</td>\n",
       "      <td>NaN</td>\n",
       "      <td>Excelente mochila, entrega super rápida. Super...</td>\n",
       "      <td>2018-03-22 00:00:00</td>\n",
       "      <td>2018-03-23 09:10:43</td>\n",
       "    </tr>\n",
       "    <tr>\n",
       "      <th>99222</th>\n",
       "      <td>1adeb9d84d72fe4e337617733eb85149</td>\n",
       "      <td>7725825d039fc1f0ceb7635e3f7d9206</td>\n",
       "      <td>4</td>\n",
       "      <td>NaN</td>\n",
       "      <td>NaN</td>\n",
       "      <td>2018-07-01 00:00:00</td>\n",
       "      <td>2018-07-02 12:59:13</td>\n",
       "    </tr>\n",
       "    <tr>\n",
       "      <th>99223</th>\n",
       "      <td>efe49f1d6f951dd88b51e6ccd4cc548f</td>\n",
       "      <td>90531360ecb1eec2a1fbb265a0db0508</td>\n",
       "      <td>1</td>\n",
       "      <td>NaN</td>\n",
       "      <td>meu produto chegou e ja tenho que devolver, po...</td>\n",
       "      <td>2017-07-03 00:00:00</td>\n",
       "      <td>2017-07-03 21:01:49</td>\n",
       "    </tr>\n",
       "  </tbody>\n",
       "</table>\n",
       "<p>99224 rows × 7 columns</p>\n",
       "</div>"
      ],
      "text/plain": [
       "                              review_id                          order_id  \\\n",
       "0      7bc2406110b926393aa56f80a40eba40  73fc7af87114b39712e6da79b0a377eb   \n",
       "1      80e641a11e56f04c1ad469d5645fdfde  a548910a1c6147796b98fdf73dbeba33   \n",
       "2      228ce5500dc1d8e020d8d1322874b6f0  f9e4b658b201a9f2ecdecbb34bed034b   \n",
       "3      e64fb393e7b32834bb789ff8bb30750e  658677c97b385a9be170737859d3511b   \n",
       "4      f7c4243c7fe1938f181bec41a392bdeb  8e6bfb81e283fa7e4f11123a3fb894f1   \n",
       "...                                 ...                               ...   \n",
       "99219  574ed12dd733e5fa530cfd4bbf39d7c9  2a8c23fee101d4d5662fa670396eb8da   \n",
       "99220  f3897127253a9592a73be9bdfdf4ed7a  22ec9f0669f784db00fa86d035cf8602   \n",
       "99221  b3de70c89b1510c4cd3d0649fd302472  55d4004744368f5571d1f590031933e4   \n",
       "99222  1adeb9d84d72fe4e337617733eb85149  7725825d039fc1f0ceb7635e3f7d9206   \n",
       "99223  efe49f1d6f951dd88b51e6ccd4cc548f  90531360ecb1eec2a1fbb265a0db0508   \n",
       "\n",
       "       review_score review_comment_title  \\\n",
       "0                 4                  NaN   \n",
       "1                 5                  NaN   \n",
       "2                 5                  NaN   \n",
       "3                 5                  NaN   \n",
       "4                 5                  NaN   \n",
       "...             ...                  ...   \n",
       "99219             5                  NaN   \n",
       "99220             5                  NaN   \n",
       "99221             5                  NaN   \n",
       "99222             4                  NaN   \n",
       "99223             1                  NaN   \n",
       "\n",
       "                                  review_comment_message review_creation_date  \\\n",
       "0                                                    NaN  2018-01-18 00:00:00   \n",
       "1                                                    NaN  2018-03-10 00:00:00   \n",
       "2                                                    NaN  2018-02-17 00:00:00   \n",
       "3                  Recebi bem antes do prazo estipulado.  2017-04-21 00:00:00   \n",
       "4      Parabéns lojas lannister adorei comprar pela I...  2018-03-01 00:00:00   \n",
       "...                                                  ...                  ...   \n",
       "99219                                                NaN  2018-07-07 00:00:00   \n",
       "99220                                                NaN  2017-12-09 00:00:00   \n",
       "99221  Excelente mochila, entrega super rápida. Super...  2018-03-22 00:00:00   \n",
       "99222                                                NaN  2018-07-01 00:00:00   \n",
       "99223  meu produto chegou e ja tenho que devolver, po...  2017-07-03 00:00:00   \n",
       "\n",
       "      review_answer_timestamp  \n",
       "0         2018-01-18 21:46:59  \n",
       "1         2018-03-11 03:05:13  \n",
       "2         2018-02-18 14:36:24  \n",
       "3         2017-04-21 22:02:06  \n",
       "4         2018-03-02 10:26:53  \n",
       "...                       ...  \n",
       "99219     2018-07-14 17:18:30  \n",
       "99220     2017-12-11 20:06:42  \n",
       "99221     2018-03-23 09:10:43  \n",
       "99222     2018-07-02 12:59:13  \n",
       "99223     2017-07-03 21:01:49  \n",
       "\n",
       "[99224 rows x 7 columns]"
      ]
     },
     "execution_count": 85,
     "metadata": {},
     "output_type": "execute_result"
    }
   ],
   "source": [
    "review_scores"
   ]
  },
  {
   "cell_type": "code",
   "execution_count": 55,
   "id": "0c671ba6-dc0b-43ef-8e7e-715a6bbe43a6",
   "metadata": {},
   "outputs": [],
   "source": [
    "from googletrans import Translator\n",
    "translator = Translator()"
   ]
  },
  {
   "cell_type": "code",
   "execution_count": 68,
   "id": "e3f48f4b-8f20-418f-b8e8-5312969c1c05",
   "metadata": {},
   "outputs": [
    {
     "name": "stdout",
     "output_type": "stream",
     "text": [
      "Recebi bem antes do prazo estipulado.\n",
      "\n",
      "I received it well before the stipulated deadline.\n",
      "Parabéns lojas lannister adorei comprar pela Internet seguro e prático Parabéns a todos feliz Páscoa\n",
      "\n",
      "Congratulations lannister stores I loved shopping online, safe and practical Congratulations to everyone, happy Easter\n",
      "aparelho eficiente. no site a marca do aparelho esta impresso como 3desinfector e ao chegar esta com outro nome...atualizar com a marca correta uma vez que é o mesmo aparelho\n",
      "\n",
      "efficient device. On the website the brand of the device is printed as 3disinfector and when it arrives it has a different name...update with the correct brand as it is the same device\n",
      "Mas um pouco ,travando...pelo valor ta Boa.\n",
      "\n",
      "\n",
      "But a little slow...for the price, it's good.\n",
      "Vendedor confiável, produto ok e entrega antes do prazo.\n",
      "\n",
      "Reliable seller, ok product and delivery on time.\n",
      "GOSTARIA DE SABER O QUE HOUVE, SEMPRE RECEBI E ESSA COMPRA AGORA ME DECPCIONOU\n",
      "\n",
      "I WOULD LIKE TO KNOW WHAT HAPPENED, I ALWAYS RECEIVED IT AND THIS PURCHASE NOW DISAPPOINTED ME\n",
      "Péssimo\n",
      "\n",
      "Terrible\n",
      "Loja nota 10\n",
      "\n",
      "Store note 10\n",
      "obrigado pela atençao amim dispensada\n",
      "\n",
      "thank you for the attention given to me\n",
      "A compra foi realizada facilmente.\n",
      "A entrega foi efetuada muito antes do prazo dado.\n",
      "O produto já começou a ser usado e até o presente,\n",
      "sem problemas.\n",
      "\n",
      "The purchase was made easily.\n",
      "Delivery was made well before the deadline given.\n",
      "The product has already started to be used and to date,\n",
      "no problem.\n",
      "relógio muito bonito e barato.\n",
      "\n",
      "very beautiful and cheap watch.\n",
      "Não gostei ! Comprei gato por lebre\n",
      "\n",
      "Did not like ! I bought a pig in a poke\n",
      "Sempre compro pela Internet e a entrega ocorre antes do prazo combinado, que acredito ser o prazo máximo. No stark o prazo máximo já se esgotou e ainda não recebi o produto.\n",
      "\n",
      "I always buy online and delivery occurs before the agreed deadline, which I believe is the maximum deadline. Stark, the maximum deadline has already passed and I still haven't received the product.\n",
      "Recebi exatamente o que esperava. As demais encomendas de outros vendedores atrasaram, mas esta chegou no prazo.\n",
      "\n",
      "I received exactly what I expected. Other orders from other sellers were delayed, but this one arrived on time.\n",
      "Recomendo ,\n",
      "\n",
      "I recommend ,\n"
     ]
    }
   ],
   "source": [
    "df_english_reviews = pd.DataFrame()\n",
    "for review in rows_w_comment.iloc[:15,4]:\n",
    "    t = translator.translate(review).text\n",
    "    time.sleep(1)+random.random(2)\n",
    "    print(review)\n",
    "    print(t)\n",
    "    print()"
   ]
  },
  {
   "cell_type": "code",
   "execution_count": 81,
   "id": "ba0b6c3b",
   "metadata": {},
   "outputs": [
    {
     "data": {
      "text/plain": [
       "3         \n",
       "4         \n",
       "9         \n",
       "12        \n",
       "15        \n",
       "        ..\n",
       "99205     \n",
       "99208     \n",
       "99215     \n",
       "99221     \n",
       "99223     \n",
       "Name: 0, Length: 40977, dtype: object"
      ]
     },
     "execution_count": 81,
     "metadata": {},
     "output_type": "execute_result"
    }
   ],
   "source": [
    "d = [''] * len(rows_w_comment)\n",
    "df_english_reviews = pd.DataFrame(d,index=rows_w_comment.index)\n",
    "df_english_reviews[0].rename("
   ]
  },
  {
   "cell_type": "code",
   "execution_count": 38,
   "id": "3e589a32",
   "metadata": {},
   "outputs": [
    {
     "data": {
      "text/plain": [
       "'I received it well before the stipulated deadline.'"
      ]
     },
     "execution_count": 38,
     "metadata": {},
     "output_type": "execute_result"
    }
   ],
   "source": [
    "translator.translate('Recebi bem antes do prazo estipulado.').text"
   ]
  },
  {
   "cell_type": "code",
   "execution_count": 71,
   "id": "8dda63af",
   "metadata": {},
   "outputs": [
    {
     "data": {
      "text/html": [
       "<div>\n",
       "<style scoped>\n",
       "    .dataframe tbody tr th:only-of-type {\n",
       "        vertical-align: middle;\n",
       "    }\n",
       "\n",
       "    .dataframe tbody tr th {\n",
       "        vertical-align: top;\n",
       "    }\n",
       "\n",
       "    .dataframe thead th {\n",
       "        text-align: right;\n",
       "    }\n",
       "</style>\n",
       "<table border=\"1\" class=\"dataframe\">\n",
       "  <thead>\n",
       "    <tr style=\"text-align: right;\">\n",
       "      <th></th>\n",
       "    </tr>\n",
       "  </thead>\n",
       "  <tbody>\n",
       "  </tbody>\n",
       "</table>\n",
       "</div>"
      ],
      "text/plain": [
       "Empty DataFrame\n",
       "Columns: []\n",
       "Index: []"
      ]
     },
     "execution_count": 71,
     "metadata": {},
     "output_type": "execute_result"
    }
   ],
   "source": [
    "pd.DataFrame()"
   ]
  },
  {
   "cell_type": "code",
   "execution_count": 70,
   "id": "7f1a2c3b",
   "metadata": {},
   "outputs": [
    {
     "data": {
      "text/plain": [
       "0.9301503216708508"
      ]
     },
     "execution_count": 70,
     "metadata": {},
     "output_type": "execute_result"
    }
   ],
   "source": [
    "random.random()"
   ]
  },
  {
   "cell_type": "code",
   "execution_count": null,
   "id": "d2adb919",
   "metadata": {},
   "outputs": [],
   "source": []
  },
  {
   "cell_type": "code",
   "execution_count": null,
   "id": "696c1a68-3674-4f49-8a66-10a56bf6a32c",
   "metadata": {},
   "outputs": [],
   "source": []
  }
 ],
 "metadata": {
  "kernelspec": {
   "display_name": "Python 3 (ipykernel)",
   "language": "python",
   "name": "python3"
  },
  "language_info": {
   "codemirror_mode": {
    "name": "ipython",
    "version": 3
   },
   "file_extension": ".py",
   "mimetype": "text/x-python",
   "name": "python",
   "nbconvert_exporter": "python",
   "pygments_lexer": "ipython3",
   "version": "3.11.5"
  }
 },
 "nbformat": 4,
 "nbformat_minor": 5
}
